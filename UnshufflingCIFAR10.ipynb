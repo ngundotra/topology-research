{
 "cells": [
  {
   "cell_type": "markdown",
   "metadata": {},
   "source": [
    "# Unshuffling Experiments"
   ]
  },
  {
   "cell_type": "code",
   "execution_count": 1,
   "metadata": {},
   "outputs": [],
   "source": [
    "%matplotlib inline\n",
    "%reload_ext autoreload\n",
    "%autoreload 2"
   ]
  },
  {
   "cell_type": "code",
   "execution_count": 2,
   "metadata": {},
   "outputs": [],
   "source": [
    "import numpy as np\n",
    "import matplotlib.pyplot as plt"
   ]
  },
  {
   "cell_type": "code",
   "execution_count": 3,
   "metadata": {},
   "outputs": [],
   "source": [
    "from fastai.vision import *\n",
    "import torch\n",
    "import torchvision.transforms"
   ]
  },
  {
   "cell_type": "code",
   "execution_count": 4,
   "metadata": {},
   "outputs": [],
   "source": [
    "torch.cuda.set_device(1)"
   ]
  },
  {
   "cell_type": "code",
   "execution_count": 5,
   "metadata": {},
   "outputs": [],
   "source": [
    "from PixelShuffle import *"
   ]
  },
  {
   "cell_type": "code",
   "execution_count": 6,
   "metadata": {},
   "outputs": [],
   "source": [
    "class SoftPermutation(torch.nn.Module):\n",
    "    \"\"\"Permutes images\"\"\"\n",
    "    def __init__(self, n, init_method, **kwargs):\n",
    "        super(SoftPermutation, self).__init__()\n",
    "        self.n = n\n",
    "        self.permMatrix = torch.nn.Linear(n, n)\n",
    "        if init_method.lower() == 'identity':\n",
    "            self.permMatrix.weight.data = torch.eye(n)\n",
    "        elif init_method.lower() == 'solution':\n",
    "            self.permMatrix.weight.data = kwargs['data'].transpose(0,1)\n",
    "        else:\n",
    "            raise ValueError(f\"Init method unrecognized: {init_method}\")\n",
    "    \n",
    "    def forward(self, x):\n",
    "        \"\"\"Performs forward on normal NxCxHxW image tensors\"\"\"\n",
    "        shape = x.shape\n",
    "        x = torch.reshape(x, (shape[0], shape[1], self.n))\n",
    "        x = self.permMatrix(x)\n",
    "        x = torch.reshape(x, shape)\n",
    "        return x\n",
    "    \n",
    "class StackedUnshuffler(torch.nn.Module):\n",
    "    def __init__(self, n, learnedModel, init_method, **kwargs):\n",
    "        super(StackedUnshuffler, self).__init__()\n",
    "        self.permutation = SoftPermutation(n, init_method, **kwargs)\n",
    "        self.learnedModel = learnedModel\n",
    "    \n",
    "    def forward(self, x):\n",
    "        x = self.permutation(x)\n",
    "        x = self.learnedModel(x)\n",
    "        return x\n",
    "    \n",
    "    def freeze_model(self):\n",
    "        c = 0\n",
    "        for p in self.learnedModel.parameters():\n",
    "            c += 1\n",
    "            p.requires_grad = False\n",
    "        print(f\"Froze {c} parameters\")"
   ]
  },
  {
   "cell_type": "markdown",
   "metadata": {},
   "source": [
    "Visualizing the solution permutation matrix"
   ]
  },
  {
   "cell_type": "code",
   "execution_count": 7,
   "metadata": {},
   "outputs": [
    {
     "data": {
      "text/plain": [
       "<matplotlib.image.AxesImage at 0x7f173c9c49b0>"
      ]
     },
     "execution_count": 7,
     "metadata": {},
     "output_type": "execute_result"
    },
    {
     "data": {
      "image/png": "[encoded data removed]",
      "text/plain": [
       "<Figure size 288x288 with 1 Axes>"
      ]
     },
     "metadata": {},
     "output_type": "display_data"
    }
   ],
   "source": [
    "data, cifarShuffle = get_data_with_tfm(32, 128)\n",
    "plt.matshow(cifarShuffle.createUnPermuteData())"
   ]
  },
  {
   "cell_type": "markdown",
   "metadata": {},
   "source": [
    "## Load learned model\n",
    "\n",
    "In order to first carry out experiments we want a few things.\n",
    "* A trained model (model.learnedModel)\n",
    "* A layer that can unpermute shuffled images (model.permutation)\n",
    "\n",
    "Right now, the _model.permutation_ layer is just a linear layer that shifts around the flattened image.\n",
    "\n",
    "Now we can begin Experiment 0: learning the model.permutation layer, given a trained model."
   ]
  },
  {
   "cell_type": "markdown",
   "metadata": {},
   "source": [
    "## Experiment 0:\n",
    "\n",
    "Solution validation. To make sure that we have a layer that can unpermute the images, we test out version of the solution weight matrix for the linear layer."
   ]
  },
  {
   "cell_type": "code",
   "execution_count": 8,
   "metadata": {},
   "outputs": [
    {
     "data": {
      "text/plain": [
       "IncompatibleKeys(missing_keys=[], unexpected_keys=[])"
      ]
     },
     "execution_count": 8,
     "metadata": {},
     "output_type": "execute_result"
    }
   ],
   "source": [
    "learnedModel = models.wrn_22()\n",
    "learnedModel.load_state_dict(torch.load('wrn22_pyramid_cycle'))"
   ]
  },
  {
   "cell_type": "markdown",
   "metadata": {},
   "source": [
    "## [0] Testing the solution data\n",
    "\n",
    "cifarShuffle.createUnPermuteData()"
   ]
  },
  {
   "cell_type": "code",
   "execution_count": 9,
   "metadata": {},
   "outputs": [],
   "source": [
    "experiment_arch = StackedUnshuffler(32*32, learnedModel, 'solution', data=cifarShuffle.createUnPermuteData())"
   ]
  },
  {
   "cell_type": "code",
   "execution_count": 10,
   "metadata": {},
   "outputs": [
    {
     "data": {
      "text/plain": [
       "StackedUnshuffler\n",
       "======================================================================\n",
       "Layer (type)         Output Shape         Param #    Trainable \n",
       "======================================================================\n",
       "Linear               [3, 1024]            1,049,600  False     \n",
       "______________________________________________________________________\n",
       "Conv2d               [16, 32, 32]         432        False     \n",
       "______________________________________________________________________\n",
       "BatchNorm2d          [16, 32, 32]         32         True      \n",
       "______________________________________________________________________\n",
       "Conv2d               [96, 32, 32]         13,824     False     \n",
       "______________________________________________________________________\n",
       "BatchNorm2d          [96, 32, 32]         192        True      \n",
       "______________________________________________________________________\n",
       "ReLU                 [96, 32, 32]         0          False     \n",
       "______________________________________________________________________\n",
       "Conv2d               [96, 32, 32]         82,944     False     \n",
       "______________________________________________________________________\n",
       "Conv2d               [96, 32, 32]         1,536      False     \n",
       "______________________________________________________________________\n",
       "BatchNorm2d          [96, 32, 32]         192        True      \n",
       "______________________________________________________________________\n",
       "Conv2d               [96, 32, 32]         82,944     False     \n",
       "______________________________________________________________________\n",
       "BatchNorm2d          [96, 32, 32]         192        True      \n",
       "______________________________________________________________________\n",
       "ReLU                 [96, 32, 32]         0          False     \n",
       "______________________________________________________________________\n",
       "Conv2d               [96, 32, 32]         82,944     False     \n",
       "______________________________________________________________________\n",
       "BatchNorm2d          [96, 32, 32]         192        True      \n",
       "______________________________________________________________________\n",
       "Conv2d               [96, 32, 32]         82,944     False     \n",
       "______________________________________________________________________\n",
       "BatchNorm2d          [96, 32, 32]         192        True      \n",
       "______________________________________________________________________\n",
       "ReLU                 [96, 32, 32]         0          False     \n",
       "______________________________________________________________________\n",
       "Conv2d               [96, 32, 32]         82,944     False     \n",
       "______________________________________________________________________\n",
       "BatchNorm2d          [96, 32, 32]         192        True      \n",
       "______________________________________________________________________\n",
       "Conv2d               [192, 16, 16]        165,888    False     \n",
       "______________________________________________________________________\n",
       "BatchNorm2d          [192, 16, 16]        384        True      \n",
       "______________________________________________________________________\n",
       "ReLU                 [192, 16, 16]        0          False     \n",
       "______________________________________________________________________\n",
       "Conv2d               [192, 16, 16]        331,776    False     \n",
       "______________________________________________________________________\n",
       "Conv2d               [192, 16, 16]        18,432     False     \n",
       "______________________________________________________________________\n",
       "BatchNorm2d          [192, 16, 16]        384        True      \n",
       "______________________________________________________________________\n",
       "Conv2d               [192, 16, 16]        331,776    False     \n",
       "______________________________________________________________________\n",
       "BatchNorm2d          [192, 16, 16]        384        True      \n",
       "______________________________________________________________________\n",
       "ReLU                 [192, 16, 16]        0          False     \n",
       "______________________________________________________________________\n",
       "Conv2d               [192, 16, 16]        331,776    False     \n",
       "______________________________________________________________________\n",
       "BatchNorm2d          [192, 16, 16]        384        True      \n",
       "______________________________________________________________________\n",
       "Conv2d               [192, 16, 16]        331,776    False     \n",
       "______________________________________________________________________\n",
       "BatchNorm2d          [192, 16, 16]        384        True      \n",
       "______________________________________________________________________\n",
       "ReLU                 [192, 16, 16]        0          False     \n",
       "______________________________________________________________________\n",
       "Conv2d               [192, 16, 16]        331,776    False     \n",
       "______________________________________________________________________\n",
       "BatchNorm2d          [192, 16, 16]        384        True      \n",
       "______________________________________________________________________\n",
       "Conv2d               [384, 8, 8]          663,552    False     \n",
       "______________________________________________________________________\n",
       "BatchNorm2d          [384, 8, 8]          768        True      \n",
       "______________________________________________________________________\n",
       "ReLU                 [384, 8, 8]          0          False     \n",
       "______________________________________________________________________\n",
       "Conv2d               [384, 8, 8]          1,327,104  False     \n",
       "______________________________________________________________________\n",
       "Conv2d               [384, 8, 8]          73,728     False     \n",
       "______________________________________________________________________\n",
       "BatchNorm2d          [384, 8, 8]          768        True      \n",
       "______________________________________________________________________\n",
       "Conv2d               [384, 8, 8]          1,327,104  False     \n",
       "______________________________________________________________________\n",
       "BatchNorm2d          [384, 8, 8]          768        True      \n",
       "______________________________________________________________________\n",
       "ReLU                 [384, 8, 8]          0          False     \n",
       "______________________________________________________________________\n",
       "Conv2d               [384, 8, 8]          1,327,104  False     \n",
       "______________________________________________________________________\n",
       "BatchNorm2d          [384, 8, 8]          768        True      \n",
       "______________________________________________________________________\n",
       "Conv2d               [384, 8, 8]          1,327,104  False     \n",
       "______________________________________________________________________\n",
       "BatchNorm2d          [384, 8, 8]          768        True      \n",
       "______________________________________________________________________\n",
       "ReLU                 [384, 8, 8]          0          False     \n",
       "______________________________________________________________________\n",
       "Conv2d               [384, 8, 8]          1,327,104  False     \n",
       "______________________________________________________________________\n",
       "BatchNorm2d          [384, 8, 8]          768        True      \n",
       "______________________________________________________________________\n",
       "ReLU                 [384, 8, 8]          0          False     \n",
       "______________________________________________________________________\n",
       "AdaptiveAvgPool2d    [384, 1, 1]          0          False     \n",
       "______________________________________________________________________\n",
       "Flatten              [384]                0          False     \n",
       "______________________________________________________________________\n",
       "Linear               [10]                 3,850      False     \n",
       "______________________________________________________________________\n",
       "\n",
       "Total params: 10,708,058\n",
       "Total trainable params: 8,096\n",
       "Total non-trainable params: 10,699,962\n",
       "Optimized with 'torch.optim.adam.Adam', betas=(0.9, 0.99)\n",
       "Using true weight decay as discussed in https://www.fast.ai/2018/07/02/adam-weight-decay/ \n",
       "Loss function : FlattenedLoss\n",
       "======================================================================\n",
       "Callbacks functions applied "
      ]
     },
     "execution_count": 10,
     "metadata": {},
     "output_type": "execute_result"
    }
   ],
   "source": [
    "experiment_learner = Learner(data, experiment_arch, metrics=[accuracy])\n",
    "# Create layer groups that we can use to freeze the model\n",
    "experiment_learner.split(lambda m:(m.learnedModel,))\n",
    "experiment_learner.freeze_to(2)\n",
    "experiment_learner.summary()"
   ]
  },
  {
   "cell_type": "code",
   "execution_count": 11,
   "metadata": {},
   "outputs": [],
   "source": [
    "preds, y, loss = experiment_learner.get_preds(with_loss=True)"
   ]
  },
  {
   "cell_type": "code",
   "execution_count": 12,
   "metadata": {},
   "outputs": [
    {
     "data": {
      "text/plain": [
       "tensor(0.9060)"
      ]
     },
     "execution_count": 12,
     "metadata": {},
     "output_type": "execute_result"
    }
   ],
   "source": [
    "accuracy(preds, y)"
   ]
  },
  {
   "cell_type": "markdown",
   "metadata": {},
   "source": [
    "For comparison: here are WRN22's performances\n",
    "\n",
    "| Dataset | Accuracy |\n",
    "|---------|---------------------------|\n",
    "| Unshuffled | 0.9075 |\n",
    "| Shuffled | 0.9073 |\n",
    "\n",
    "Accuracy w/ solution on shuffled: 0.9050"
   ]
  },
  {
   "cell_type": "code",
   "execution_count": 14,
   "metadata": {},
   "outputs": [
    {
     "name": "stderr",
     "output_type": "stream",
     "text": [
      "Clipping input data to the valid range for imshow with RGB data ([0..1] for floats or [0..255] for integers).\n"
     ]
    },
    {
     "data": {
      "image/png": "[encoded data removed]",
      "text/plain": [
       "<Figure size 432x288 with 3 Axes>"
      ]
     },
     "metadata": {},
     "output_type": "display_data"
    },
    {
     "data": {
      "image/png": "[encoded data removed]",
      "text/plain": [
       "<Figure size 432x288 with 3 Axes>"
      ]
     },
     "metadata": {},
     "output_type": "display_data"
    },
    {
     "data": {
      "image/png": "[encoded data removed]",
      "text/plain": [
       "<Figure size 432x288 with 3 Axes>"
      ]
     },
     "metadata": {},
     "output_type": "display_data"
    }
   ],
   "source": [
    "cifarUnshuffledData = get_data(32, 128, with_shuffle=False)\n",
    "def visualizeIdxRange(givenRange):\n",
    "    for i in givenRange:\n",
    "        unshuffledImg, unshuffledLbl = cifarUnshuffledData.train_ds[i]\n",
    "        shuffledImg, shuffledLbl = data.train_ds[i]\n",
    "\n",
    "        def quick_pred(image, layer=\"learned\"):\n",
    "            model = experiment_learner.model.learnedModel\n",
    "            if layer.lower() == \"perm\":\n",
    "                model = experiment_learner.model.permutation\n",
    "            pred = model(image.data.unsqueeze(0).cuda())\n",
    "            if layer.lower() == \"perm\":\n",
    "                return pred.detach()\n",
    "            return pred.argmax()\n",
    "\n",
    "        fig, axes = plt.subplots(1,3)\n",
    "        top = axes\n",
    "        shuffledImg.show(top[0])\n",
    "        solvedImgData = quick_pred(shuffledImg, layer=\"perm\").squeeze()\n",
    "        solvedImg = Image(solvedImgData)\n",
    "        predictedLbl = data.train_ds.y.reconstruct(quick_pred(solvedImg))\n",
    "        predictedLbl2 = cifarUnshuffledData.train_ds.y.reconstruct(quick_pred(unshuffledImg))\n",
    "        solvedImg.show(top[1])\n",
    "        unshuffledImg.show(top[2])\n",
    "        top[0].set_title(f\"Shuffled: {shuffledLbl}\")\n",
    "        top[1].set_title(f\"Solved: ({predictedLbl})\")\n",
    "        top[2].set_title(f\"Unshuffled: ({predictedLbl2})\")\n",
    "visualizeIdxRange(range(20000,20003))"
   ]
  },
  {
   "cell_type": "code",
   "execution_count": 15,
   "metadata": {},
   "outputs": [],
   "source": [
    "experiment_learner.layer_groups[0].requires_grad = True"
   ]
  },
  {
   "cell_type": "code",
   "execution_count": 16,
   "metadata": {
    "collapsed": true
   },
   "outputs": [
    {
     "data": {
      "text/html": [
       "\n",
       "    <div>\n",
       "        <style>\n",
       "            /* Turns off some styling */\n",
       "            progress {\n",
       "                /* gets rid of default border in Firefox and Opera. */\n",
       "                border: none;\n",
       "                /* Needs to be in here for Safari polyfill so background images work as expected. */\n",
       "                background-size: auto;\n",
       "            }\n",
       "            .progress-bar-interrupted, .progress-bar-interrupted::-webkit-progress-bar {\n",
       "                background: #F44336;\n",
       "            }\n",
       "        </style>\n",
       "      <progress value='12' class='' max='30', style='width:300px; height:20px; vertical-align: middle;'></progress>\n",
       "      40.00% [12/30 08:30<12:45]\n",
       "    </div>\n",
       "    \n",
       "<table border=\"1\" class=\"dataframe\">\n",
       "  <thead>\n",
       "    <tr style=\"text-align: left;\">\n",
       "      <th>epoch</th>\n",
       "      <th>train_loss</th>\n",
       "      <th>valid_loss</th>\n",
       "      <th>accuracy</th>\n",
       "      <th>time</th>\n",
       "    </tr>\n",
       "  </thead>\n",
       "  <tbody>\n",
       "    <tr>\n",
       "      <td>epoch</td>\n",
       "      <td>train_loss</td>\n",
       "      <td>valid_loss</td>\n",
       "      <td>accuracy</td>\n",
       "      <td>time</td>\n",
       "    </tr>\n",
       "    <tr>\n",
       "      <td>0</td>\n",
       "      <td>0.008564</td>\n",
       "      <td>0.430348</td>\n",
       "      <td>0.903500</td>\n",
       "      <td>00:41</td>\n",
       "    </tr>\n",
       "    <tr>\n",
       "      <td>0</td>\n",
       "      <td>0.008564</td>\n",
       "      <td>0.430348</td>\n",
       "      <td>0.903500</td>\n",
       "      <td>00:41</td>\n",
       "    </tr>\n",
       "    <tr>\n",
       "      <td>1</td>\n",
       "      <td>0.004495</td>\n",
       "      <td>0.458022</td>\n",
       "      <td>0.906900</td>\n",
       "      <td>00:42</td>\n",
       "    </tr>\n",
       "    <tr>\n",
       "      <td>1</td>\n",
       "      <td>0.004495</td>\n",
       "      <td>0.458022</td>\n",
       "      <td>0.906900</td>\n",
       "      <td>00:42</td>\n",
       "    </tr>\n",
       "    <tr>\n",
       "      <td>2</td>\n",
       "      <td>0.004992</td>\n",
       "      <td>0.492068</td>\n",
       "      <td>0.904900</td>\n",
       "      <td>00:42</td>\n",
       "    </tr>\n",
       "    <tr>\n",
       "      <td>2</td>\n",
       "      <td>0.004992</td>\n",
       "      <td>0.492068</td>\n",
       "      <td>0.904900</td>\n",
       "      <td>00:42</td>\n",
       "    </tr>\n",
       "    <tr>\n",
       "      <td>3</td>\n",
       "      <td>0.004078</td>\n",
       "      <td>0.522027</td>\n",
       "      <td>0.902500</td>\n",
       "      <td>00:42</td>\n",
       "    </tr>\n",
       "    <tr>\n",
       "      <td>3</td>\n",
       "      <td>0.004078</td>\n",
       "      <td>0.522027</td>\n",
       "      <td>0.902500</td>\n",
       "      <td>00:42</td>\n",
       "    </tr>\n",
       "    <tr>\n",
       "      <td>4</td>\n",
       "      <td>0.004859</td>\n",
       "      <td>0.540729</td>\n",
       "      <td>0.903600</td>\n",
       "      <td>00:42</td>\n",
       "    </tr>\n",
       "    <tr>\n",
       "      <td>4</td>\n",
       "      <td>0.004859</td>\n",
       "      <td>0.540729</td>\n",
       "      <td>0.903600</td>\n",
       "      <td>00:42</td>\n",
       "    </tr>\n",
       "    <tr>\n",
       "      <td>5</td>\n",
       "      <td>0.003561</td>\n",
       "      <td>0.550936</td>\n",
       "      <td>0.901000</td>\n",
       "      <td>00:42</td>\n",
       "    </tr>\n",
       "    <tr>\n",
       "      <td>5</td>\n",
       "      <td>0.003561</td>\n",
       "      <td>0.550936</td>\n",
       "      <td>0.901000</td>\n",
       "      <td>00:42</td>\n",
       "    </tr>\n",
       "    <tr>\n",
       "      <td>6</td>\n",
       "      <td>0.004282</td>\n",
       "      <td>0.578839</td>\n",
       "      <td>0.902600</td>\n",
       "      <td>00:42</td>\n",
       "    </tr>\n",
       "    <tr>\n",
       "      <td>6</td>\n",
       "      <td>0.004282</td>\n",
       "      <td>0.578839</td>\n",
       "      <td>0.902600</td>\n",
       "      <td>00:42</td>\n",
       "    </tr>\n",
       "    <tr>\n",
       "      <td>7</td>\n",
       "      <td>0.003406</td>\n",
       "      <td>0.577231</td>\n",
       "      <td>0.903900</td>\n",
       "      <td>00:42</td>\n",
       "    </tr>\n",
       "    <tr>\n",
       "      <td>7</td>\n",
       "      <td>0.003406</td>\n",
       "      <td>0.577231</td>\n",
       "      <td>0.903900</td>\n",
       "      <td>00:42</td>\n",
       "    </tr>\n",
       "    <tr>\n",
       "      <td>8</td>\n",
       "      <td>0.003195</td>\n",
       "      <td>0.569721</td>\n",
       "      <td>0.904100</td>\n",
       "      <td>00:43</td>\n",
       "    </tr>\n",
       "    <tr>\n",
       "      <td>8</td>\n",
       "      <td>0.003195</td>\n",
       "      <td>0.569721</td>\n",
       "      <td>0.904100</td>\n",
       "      <td>00:43</td>\n",
       "    </tr>\n",
       "    <tr>\n",
       "      <td>9</td>\n",
       "      <td>0.003613</td>\n",
       "      <td>0.627155</td>\n",
       "      <td>0.903100</td>\n",
       "      <td>00:43</td>\n",
       "    </tr>\n",
       "    <tr>\n",
       "      <td>9</td>\n",
       "      <td>0.003613</td>\n",
       "      <td>0.627155</td>\n",
       "      <td>0.903100</td>\n",
       "      <td>00:43</td>\n",
       "    </tr>\n",
       "    <tr>\n",
       "      <td>10</td>\n",
       "      <td>0.004126</td>\n",
       "      <td>0.588789</td>\n",
       "      <td>0.903700</td>\n",
       "      <td>00:43</td>\n",
       "    </tr>\n",
       "    <tr>\n",
       "      <td>10</td>\n",
       "      <td>0.004126</td>\n",
       "      <td>0.588789</td>\n",
       "      <td>0.903700</td>\n",
       "      <td>00:43</td>\n",
       "    </tr>\n",
       "    <tr>\n",
       "      <td>11</td>\n",
       "      <td>0.003020</td>\n",
       "      <td>0.603526</td>\n",
       "      <td>0.904500</td>\n",
       "      <td>00:43</td>\n",
       "    </tr>\n",
       "    <tr>\n",
       "      <td>11</td>\n",
       "      <td>0.003020</td>\n",
       "      <td>0.603526</td>\n",
       "      <td>0.904500</td>\n",
       "      <td>00:43</td>\n",
       "    </tr>\n",
       "  </tbody>\n",
       "</table><p>\n",
       "\n",
       "    <div>\n",
       "        <style>\n",
       "            /* Turns off some styling */\n",
       "            progress {\n",
       "                /* gets rid of default border in Firefox and Opera. */\n",
       "                border: none;\n",
       "                /* Needs to be in here for Safari polyfill so background images work as expected. */\n",
       "                background-size: auto;\n",
       "            }\n",
       "            .progress-bar-interrupted, .progress-bar-interrupted::-webkit-progress-bar {\n",
       "                background: #F44336;\n",
       "            }\n",
       "        </style>\n",
       "      <progress value='0' class='progress-bar-interrupted' max='390', style='width:300px; height:20px; vertical-align: middle;'></progress>\n",
       "      Interrupted\n",
       "    </div>\n",
       "    "
      ],
      "text/plain": [
       "<IPython.core.display.HTML object>"
      ]
     },
     "metadata": {},
     "output_type": "display_data"
    },
    {
     "name": "stderr",
     "output_type": "stream",
     "text": [
      "Exception ignored in: <bound method Image.__del__ of <PIL.Image.Image image mode=RGB size=32x32 at 0x7F17974CDE48>>\n",
      "Traceback (most recent call last):\n",
      "  File \"/home/ngundotra/.conda/envs/fastai/lib/python3.6/site-packages/PIL/Image.py\", line 600, in __del__\n",
      "    if (hasattr(self, 'fp') and hasattr(self, '_exclusive_fp')\n",
      "KeyboardInterrupt\n"
     ]
    },
    {
     "ename": "KeyboardInterrupt",
     "evalue": "",
     "output_type": "error",
     "traceback": [
      "\u001b[0;31m---------------------------------------------------------------------------\u001b[0m",
      "\u001b[0;31mKeyboardInterrupt\u001b[0m                         Traceback (most recent call last)",
      "\u001b[0;32m<ipython-input-16-950dc0f080d1>\u001b[0m in \u001b[0;36m<module>\u001b[0;34m()\u001b[0m\n\u001b[0;32m----> 1\u001b[0;31m \u001b[0mexperiment_learner\u001b[0m\u001b[0;34m.\u001b[0m\u001b[0mfit\u001b[0m\u001b[0;34m(\u001b[0m\u001b[0;36m30\u001b[0m\u001b[0;34m,\u001b[0m \u001b[0mcallbacks\u001b[0m\u001b[0;34m=\u001b[0m\u001b[0;34m[\u001b[0m\u001b[0mBnFreeze\u001b[0m\u001b[0;34m(\u001b[0m\u001b[0mexperiment_learner\u001b[0m\u001b[0;34m)\u001b[0m\u001b[0;34m]\u001b[0m\u001b[0;34m)\u001b[0m\u001b[0;34m\u001b[0m\u001b[0m\n\u001b[0m",
      "\u001b[0;32m~/.conda/envs/fastai/lib/python3.6/site-packages/fastai/basic_train.py\u001b[0m in \u001b[0;36mfit\u001b[0;34m(self, epochs, lr, wd, callbacks)\u001b[0m\n\u001b[1;32m    200\u001b[0m         \u001b[0mcallbacks\u001b[0m \u001b[0;34m=\u001b[0m \u001b[0;34m[\u001b[0m\u001b[0mcb\u001b[0m\u001b[0;34m(\u001b[0m\u001b[0mself\u001b[0m\u001b[0;34m)\u001b[0m \u001b[0;32mfor\u001b[0m \u001b[0mcb\u001b[0m \u001b[0;32min\u001b[0m \u001b[0mself\u001b[0m\u001b[0;34m.\u001b[0m\u001b[0mcallback_fns\u001b[0m \u001b[0;34m+\u001b[0m \u001b[0mlistify\u001b[0m\u001b[0;34m(\u001b[0m\u001b[0mdefaults\u001b[0m\u001b[0;34m.\u001b[0m\u001b[0mextra_callback_fns\u001b[0m\u001b[0;34m)\u001b[0m\u001b[0;34m]\u001b[0m \u001b[0;34m+\u001b[0m \u001b[0mlistify\u001b[0m\u001b[0;34m(\u001b[0m\u001b[0mcallbacks\u001b[0m\u001b[0;34m)\u001b[0m\u001b[0;34m\u001b[0m\u001b[0m\n\u001b[1;32m    201\u001b[0m         \u001b[0mself\u001b[0m\u001b[0;34m.\u001b[0m\u001b[0mcb_fns_registered\u001b[0m \u001b[0;34m=\u001b[0m \u001b[0;32mTrue\u001b[0m\u001b[0;34m\u001b[0m\u001b[0m\n\u001b[0;32m--> 202\u001b[0;31m         \u001b[0mfit\u001b[0m\u001b[0;34m(\u001b[0m\u001b[0mepochs\u001b[0m\u001b[0;34m,\u001b[0m \u001b[0mself\u001b[0m\u001b[0;34m,\u001b[0m \u001b[0mmetrics\u001b[0m\u001b[0;34m=\u001b[0m\u001b[0mself\u001b[0m\u001b[0;34m.\u001b[0m\u001b[0mmetrics\u001b[0m\u001b[0;34m,\u001b[0m \u001b[0mcallbacks\u001b[0m\u001b[0;34m=\u001b[0m\u001b[0mself\u001b[0m\u001b[0;34m.\u001b[0m\u001b[0mcallbacks\u001b[0m\u001b[0;34m+\u001b[0m\u001b[0mcallbacks\u001b[0m\u001b[0;34m)\u001b[0m\u001b[0;34m\u001b[0m\u001b[0m\n\u001b[0m\u001b[1;32m    203\u001b[0m \u001b[0;34m\u001b[0m\u001b[0m\n\u001b[1;32m    204\u001b[0m     \u001b[0;32mdef\u001b[0m \u001b[0mcreate_opt\u001b[0m\u001b[0;34m(\u001b[0m\u001b[0mself\u001b[0m\u001b[0;34m,\u001b[0m \u001b[0mlr\u001b[0m\u001b[0;34m:\u001b[0m\u001b[0mFloats\u001b[0m\u001b[0;34m,\u001b[0m \u001b[0mwd\u001b[0m\u001b[0;34m:\u001b[0m\u001b[0mFloats\u001b[0m\u001b[0;34m=\u001b[0m\u001b[0;36m0.\u001b[0m\u001b[0;34m)\u001b[0m\u001b[0;34m->\u001b[0m\u001b[0;32mNone\u001b[0m\u001b[0;34m:\u001b[0m\u001b[0;34m\u001b[0m\u001b[0m\n",
      "\u001b[0;32m~/.conda/envs/fastai/lib/python3.6/site-packages/fastai/basic_train.py\u001b[0m in \u001b[0;36mfit\u001b[0;34m(epochs, learn, callbacks, metrics)\u001b[0m\n\u001b[1;32m     99\u001b[0m             \u001b[0;32mfor\u001b[0m \u001b[0mxb\u001b[0m\u001b[0;34m,\u001b[0m\u001b[0myb\u001b[0m \u001b[0;32min\u001b[0m \u001b[0mprogress_bar\u001b[0m\u001b[0;34m(\u001b[0m\u001b[0mlearn\u001b[0m\u001b[0;34m.\u001b[0m\u001b[0mdata\u001b[0m\u001b[0;34m.\u001b[0m\u001b[0mtrain_dl\u001b[0m\u001b[0;34m,\u001b[0m \u001b[0mparent\u001b[0m\u001b[0;34m=\u001b[0m\u001b[0mpbar\u001b[0m\u001b[0;34m)\u001b[0m\u001b[0;34m:\u001b[0m\u001b[0;34m\u001b[0m\u001b[0m\n\u001b[1;32m    100\u001b[0m                 \u001b[0mxb\u001b[0m\u001b[0;34m,\u001b[0m \u001b[0myb\u001b[0m \u001b[0;34m=\u001b[0m \u001b[0mcb_handler\u001b[0m\u001b[0;34m.\u001b[0m\u001b[0mon_batch_begin\u001b[0m\u001b[0;34m(\u001b[0m\u001b[0mxb\u001b[0m\u001b[0;34m,\u001b[0m \u001b[0myb\u001b[0m\u001b[0;34m)\u001b[0m\u001b[0;34m\u001b[0m\u001b[0m\n\u001b[0;32m--> 101\u001b[0;31m                 \u001b[0mloss\u001b[0m \u001b[0;34m=\u001b[0m \u001b[0mloss_batch\u001b[0m\u001b[0;34m(\u001b[0m\u001b[0mlearn\u001b[0m\u001b[0;34m.\u001b[0m\u001b[0mmodel\u001b[0m\u001b[0;34m,\u001b[0m \u001b[0mxb\u001b[0m\u001b[0;34m,\u001b[0m \u001b[0myb\u001b[0m\u001b[0;34m,\u001b[0m \u001b[0mlearn\u001b[0m\u001b[0;34m.\u001b[0m\u001b[0mloss_func\u001b[0m\u001b[0;34m,\u001b[0m \u001b[0mlearn\u001b[0m\u001b[0;34m.\u001b[0m\u001b[0mopt\u001b[0m\u001b[0;34m,\u001b[0m \u001b[0mcb_handler\u001b[0m\u001b[0;34m)\u001b[0m\u001b[0;34m\u001b[0m\u001b[0m\n\u001b[0m\u001b[1;32m    102\u001b[0m                 \u001b[0;32mif\u001b[0m \u001b[0mcb_handler\u001b[0m\u001b[0;34m.\u001b[0m\u001b[0mon_batch_end\u001b[0m\u001b[0;34m(\u001b[0m\u001b[0mloss\u001b[0m\u001b[0;34m)\u001b[0m\u001b[0;34m:\u001b[0m \u001b[0;32mbreak\u001b[0m\u001b[0;34m\u001b[0m\u001b[0m\n\u001b[1;32m    103\u001b[0m \u001b[0;34m\u001b[0m\u001b[0m\n",
      "\u001b[0;32m~/.conda/envs/fastai/lib/python3.6/site-packages/fastai/basic_train.py\u001b[0m in \u001b[0;36mloss_batch\u001b[0;34m(model, xb, yb, loss_func, opt, cb_handler)\u001b[0m\n\u001b[1;32m     36\u001b[0m         \u001b[0;32mif\u001b[0m \u001b[0;32mnot\u001b[0m \u001b[0mcb_handler\u001b[0m\u001b[0;34m.\u001b[0m\u001b[0mon_step_end\u001b[0m\u001b[0;34m(\u001b[0m\u001b[0;34m)\u001b[0m\u001b[0;34m:\u001b[0m     \u001b[0mopt\u001b[0m\u001b[0;34m.\u001b[0m\u001b[0mzero_grad\u001b[0m\u001b[0;34m(\u001b[0m\u001b[0;34m)\u001b[0m\u001b[0;34m\u001b[0m\u001b[0m\n\u001b[1;32m     37\u001b[0m \u001b[0;34m\u001b[0m\u001b[0m\n\u001b[0;32m---> 38\u001b[0;31m     \u001b[0;32mreturn\u001b[0m \u001b[0mloss\u001b[0m\u001b[0;34m.\u001b[0m\u001b[0mdetach\u001b[0m\u001b[0;34m(\u001b[0m\u001b[0;34m)\u001b[0m\u001b[0;34m.\u001b[0m\u001b[0mcpu\u001b[0m\u001b[0;34m(\u001b[0m\u001b[0;34m)\u001b[0m\u001b[0;34m\u001b[0m\u001b[0m\n\u001b[0m\u001b[1;32m     39\u001b[0m \u001b[0;34m\u001b[0m\u001b[0m\n\u001b[1;32m     40\u001b[0m def get_preds(model:nn.Module, dl:DataLoader, pbar:Optional[PBar]=None, cb_handler:Optional[CallbackHandler]=None,\n",
      "\u001b[0;31mKeyboardInterrupt\u001b[0m: "
     ]
    }
   ],
   "source": [
    "experiment_learner.fit(30, callbacks=[BnFreeze(experiment_learner)])"
   ]
  },
  {
   "cell_type": "code",
   "execution_count": 17,
   "metadata": {},
   "outputs": [
    {
     "name": "stderr",
     "output_type": "stream",
     "text": [
      "Clipping input data to the valid range for imshow with RGB data ([0..1] for floats or [0..255] for integers).\n"
     ]
    },
    {
     "data": {
      "image/png": "[encoded data removed]",
      "text/plain": [
       "<Figure size 432x288 with 3 Axes>"
      ]
     },
     "metadata": {},
     "output_type": "display_data"
    },
    {
     "data": {
      "image/png": "[encoded data removed]",
      "text/plain": [
       "<Figure size 432x288 with 3 Axes>"
      ]
     },
     "metadata": {},
     "output_type": "display_data"
    },
    {
     "data": {
      "image/png": "[encoded data removed]",
      "text/plain": [
       "<Figure size 432x288 with 3 Axes>"
      ]
     },
     "metadata": {},
     "output_type": "display_data"
    }
   ],
   "source": [
    "visualizeIdxRange(range(20000,20003))"
   ]
  },
  {
   "cell_type": "markdown",
   "metadata": {},
   "source": [
    "## [0] Results: \n",
    "\n",
    "Even when we freeze the trained model's layers, freeze its batchnorm statistics, and only train the permutation layer, we somehow still a slight improvement. Which is probably just the _model.permutation_ layer learning how to manipulate the frozen trained model."
   ]
  },
  {
   "cell_type": "markdown",
   "metadata": {},
   "source": [
    "# Experiment 1:\n",
    "\n",
    "Training the _model.permutation_ layer from scratch (aka not from the solution), given a trained model."
   ]
  },
  {
   "cell_type": "code",
   "execution_count": 25,
   "metadata": {},
   "outputs": [
    {
     "data": {
      "text/plain": [
       "torch.Size([1024, 1024])"
      ]
     },
     "execution_count": 25,
     "metadata": {},
     "output_type": "execute_result"
    }
   ],
   "source": [
    "cifarShuffle.createUnPermuteData().shape"
   ]
  },
  {
   "cell_type": "code",
   "execution_count": 26,
   "metadata": {},
   "outputs": [],
   "source": [
    "random_weight_init = cifarShuffle.createUnPermuteData()\n",
    "random_weight_init = torch.nn.init.kaiming_uniform_(random_weight_init, np.sqrt(5))"
   ]
  },
  {
   "cell_type": "code",
   "execution_count": 27,
   "metadata": {},
   "outputs": [],
   "source": [
    "experiment_arch = StackedUnshuffler(32*32, learnedModel, 'solution', data=random_weight_init)\n",
    "experiment_learner = Learner(data, experiment_arch, metrics=[accuracy])\n",
    "# Create layer groups that we can use to freeze the model\n",
    "experiment_learner.split(lambda m:(m.learnedModel,))\n",
    "experiment_learner.freeze_to(2)"
   ]
  },
  {
   "cell_type": "markdown",
   "metadata": {},
   "source": [
    "Allow the permutation layer to learn."
   ]
  },
  {
   "cell_type": "code",
   "execution_count": 28,
   "metadata": {},
   "outputs": [],
   "source": [
    "experiment_learner.layer_groups[0].requires_grad = True"
   ]
  },
  {
   "cell_type": "code",
   "execution_count": 29,
   "metadata": {},
   "outputs": [
    {
     "data": {
      "text/html": [
       "<table border=\"1\" class=\"dataframe\">\n",
       "  <thead>\n",
       "    <tr style=\"text-align: left;\">\n",
       "      <th>epoch</th>\n",
       "      <th>train_loss</th>\n",
       "      <th>valid_loss</th>\n",
       "      <th>accuracy</th>\n",
       "      <th>time</th>\n",
       "    </tr>\n",
       "  </thead>\n",
       "  <tbody>\n",
       "    <tr>\n",
       "      <td>0</td>\n",
       "      <td>1.986012</td>\n",
       "      <td>1.921266</td>\n",
       "      <td>0.293300</td>\n",
       "      <td>00:42</td>\n",
       "    </tr>\n",
       "    <tr>\n",
       "      <td>1</td>\n",
       "      <td>1.775053</td>\n",
       "      <td>1.752066</td>\n",
       "      <td>0.353100</td>\n",
       "      <td>00:42</td>\n",
       "    </tr>\n",
       "    <tr>\n",
       "      <td>2</td>\n",
       "      <td>1.689058</td>\n",
       "      <td>1.685506</td>\n",
       "      <td>0.393800</td>\n",
       "      <td>00:42</td>\n",
       "    </tr>\n",
       "    <tr>\n",
       "      <td>3</td>\n",
       "      <td>1.628906</td>\n",
       "      <td>1.629411</td>\n",
       "      <td>0.416800</td>\n",
       "      <td>00:41</td>\n",
       "    </tr>\n",
       "    <tr>\n",
       "      <td>4</td>\n",
       "      <td>1.597624</td>\n",
       "      <td>1.592561</td>\n",
       "      <td>0.425200</td>\n",
       "      <td>00:42</td>\n",
       "    </tr>\n",
       "    <tr>\n",
       "      <td>5</td>\n",
       "      <td>1.554024</td>\n",
       "      <td>1.593081</td>\n",
       "      <td>0.423400</td>\n",
       "      <td>00:42</td>\n",
       "    </tr>\n",
       "    <tr>\n",
       "      <td>6</td>\n",
       "      <td>1.534132</td>\n",
       "      <td>1.575534</td>\n",
       "      <td>0.431900</td>\n",
       "      <td>00:42</td>\n",
       "    </tr>\n",
       "    <tr>\n",
       "      <td>7</td>\n",
       "      <td>1.528426</td>\n",
       "      <td>1.563714</td>\n",
       "      <td>0.437200</td>\n",
       "      <td>00:42</td>\n",
       "    </tr>\n",
       "    <tr>\n",
       "      <td>8</td>\n",
       "      <td>1.529840</td>\n",
       "      <td>1.545879</td>\n",
       "      <td>0.439700</td>\n",
       "      <td>00:44</td>\n",
       "    </tr>\n",
       "    <tr>\n",
       "      <td>9</td>\n",
       "      <td>1.500362</td>\n",
       "      <td>1.568620</td>\n",
       "      <td>0.439200</td>\n",
       "      <td>00:44</td>\n",
       "    </tr>\n",
       "    <tr>\n",
       "      <td>10</td>\n",
       "      <td>1.500467</td>\n",
       "      <td>1.560187</td>\n",
       "      <td>0.440300</td>\n",
       "      <td>00:44</td>\n",
       "    </tr>\n",
       "    <tr>\n",
       "      <td>11</td>\n",
       "      <td>1.488482</td>\n",
       "      <td>1.533461</td>\n",
       "      <td>0.443700</td>\n",
       "      <td>00:43</td>\n",
       "    </tr>\n",
       "    <tr>\n",
       "      <td>12</td>\n",
       "      <td>1.488838</td>\n",
       "      <td>1.529476</td>\n",
       "      <td>0.447500</td>\n",
       "      <td>00:43</td>\n",
       "    </tr>\n",
       "    <tr>\n",
       "      <td>13</td>\n",
       "      <td>1.475520</td>\n",
       "      <td>1.552369</td>\n",
       "      <td>0.441800</td>\n",
       "      <td>00:43</td>\n",
       "    </tr>\n",
       "    <tr>\n",
       "      <td>14</td>\n",
       "      <td>1.474257</td>\n",
       "      <td>1.544954</td>\n",
       "      <td>0.444200</td>\n",
       "      <td>00:43</td>\n",
       "    </tr>\n",
       "    <tr>\n",
       "      <td>15</td>\n",
       "      <td>1.471585</td>\n",
       "      <td>1.546656</td>\n",
       "      <td>0.443100</td>\n",
       "      <td>00:43</td>\n",
       "    </tr>\n",
       "    <tr>\n",
       "      <td>16</td>\n",
       "      <td>1.454950</td>\n",
       "      <td>1.548540</td>\n",
       "      <td>0.447600</td>\n",
       "      <td>00:43</td>\n",
       "    </tr>\n",
       "    <tr>\n",
       "      <td>17</td>\n",
       "      <td>1.460434</td>\n",
       "      <td>1.531095</td>\n",
       "      <td>0.453300</td>\n",
       "      <td>00:44</td>\n",
       "    </tr>\n",
       "    <tr>\n",
       "      <td>18</td>\n",
       "      <td>1.454574</td>\n",
       "      <td>1.517356</td>\n",
       "      <td>0.458600</td>\n",
       "      <td>00:43</td>\n",
       "    </tr>\n",
       "    <tr>\n",
       "      <td>19</td>\n",
       "      <td>1.454719</td>\n",
       "      <td>1.545847</td>\n",
       "      <td>0.453700</td>\n",
       "      <td>00:44</td>\n",
       "    </tr>\n",
       "    <tr>\n",
       "      <td>20</td>\n",
       "      <td>1.440823</td>\n",
       "      <td>1.523216</td>\n",
       "      <td>0.453200</td>\n",
       "      <td>00:43</td>\n",
       "    </tr>\n",
       "    <tr>\n",
       "      <td>21</td>\n",
       "      <td>1.438886</td>\n",
       "      <td>1.515050</td>\n",
       "      <td>0.451500</td>\n",
       "      <td>00:43</td>\n",
       "    </tr>\n",
       "    <tr>\n",
       "      <td>22</td>\n",
       "      <td>1.442976</td>\n",
       "      <td>1.543448</td>\n",
       "      <td>0.452600</td>\n",
       "      <td>00:43</td>\n",
       "    </tr>\n",
       "    <tr>\n",
       "      <td>23</td>\n",
       "      <td>1.449561</td>\n",
       "      <td>1.611278</td>\n",
       "      <td>0.429700</td>\n",
       "      <td>00:44</td>\n",
       "    </tr>\n",
       "    <tr>\n",
       "      <td>24</td>\n",
       "      <td>1.425384</td>\n",
       "      <td>1.507721</td>\n",
       "      <td>0.461800</td>\n",
       "      <td>00:44</td>\n",
       "    </tr>\n",
       "    <tr>\n",
       "      <td>25</td>\n",
       "      <td>1.433452</td>\n",
       "      <td>1.500752</td>\n",
       "      <td>0.463600</td>\n",
       "      <td>00:45</td>\n",
       "    </tr>\n",
       "    <tr>\n",
       "      <td>26</td>\n",
       "      <td>1.408158</td>\n",
       "      <td>1.511539</td>\n",
       "      <td>0.461300</td>\n",
       "      <td>00:45</td>\n",
       "    </tr>\n",
       "    <tr>\n",
       "      <td>27</td>\n",
       "      <td>1.420487</td>\n",
       "      <td>1.520191</td>\n",
       "      <td>0.460100</td>\n",
       "      <td>00:44</td>\n",
       "    </tr>\n",
       "    <tr>\n",
       "      <td>28</td>\n",
       "      <td>1.419339</td>\n",
       "      <td>1.503433</td>\n",
       "      <td>0.465200</td>\n",
       "      <td>00:46</td>\n",
       "    </tr>\n",
       "    <tr>\n",
       "      <td>29</td>\n",
       "      <td>1.434016</td>\n",
       "      <td>1.503780</td>\n",
       "      <td>0.464800</td>\n",
       "      <td>00:44</td>\n",
       "    </tr>\n",
       "  </tbody>\n",
       "</table>"
      ],
      "text/plain": [
       "<IPython.core.display.HTML object>"
      ]
     },
     "metadata": {},
     "output_type": "display_data"
    }
   ],
   "source": [
    "experiment_learner.fit(30)"
   ]
  },
  {
   "cell_type": "markdown",
   "metadata": {},
   "source": [
    "# Experiment Results:\n",
    "\n",
    "| Method | Training Process | Accuracy |\n",
    "| ------ | -------- |\n",
    "| Unshuffler+FrozenTrainedWRN22 | 30 epochs | 46.48|\n",
    "| Unshuffler+TrainedWRN22 | ? | ? |\n"
   ]
  },
  {
   "cell_type": "code",
   "execution_count": 112,
   "metadata": {},
   "outputs": [],
   "source": [
    "preds, y, loss = experiment_learner.get_preds(with_loss=True)"
   ]
  },
  {
   "cell_type": "code",
   "execution_count": 113,
   "metadata": {},
   "outputs": [
    {
     "data": {
      "text/plain": [
       "tensor(0.8474)"
      ]
     },
     "execution_count": 113,
     "metadata": {},
     "output_type": "execute_result"
    }
   ],
   "source": [
    "accuracy(preds, y)"
   ]
  },
  {
   "cell_type": "code",
   "execution_count": 114,
   "metadata": {
    "collapsed": true
   },
   "outputs": [
    {
     "data": {
      "text/plain": [
       "WideResNet(\n",
       "  (features): Sequential(\n",
       "    (0): Conv2d(3, 16, kernel_size=(3, 3), stride=(1, 1), padding=(1, 1), bias=False)\n",
       "    (1): BasicBlock(\n",
       "      (bn): BatchNorm2d(16, eps=1e-05, momentum=0.1, affine=True, track_running_stats=True)\n",
       "      (conv1): Conv2d(16, 96, kernel_size=(3, 3), stride=(1, 1), padding=(1, 1), bias=False)\n",
       "      (conv2): Sequential(\n",
       "        (0): BatchNorm2d(96, eps=1e-05, momentum=0.1, affine=True, track_running_stats=True)\n",
       "        (1): ReLU(inplace)\n",
       "        (2): Conv2d(96, 96, kernel_size=(3, 3), stride=(1, 1), padding=(1, 1), bias=False)\n",
       "      )\n",
       "      (shortcut): Conv2d(16, 96, kernel_size=(1, 1), stride=(1, 1), bias=False)\n",
       "    )\n",
       "    (2): BasicBlock(\n",
       "      (bn): BatchNorm2d(96, eps=1e-05, momentum=0.1, affine=True, track_running_stats=True)\n",
       "      (conv1): Conv2d(96, 96, kernel_size=(3, 3), stride=(1, 1), padding=(1, 1), bias=False)\n",
       "      (conv2): Sequential(\n",
       "        (0): BatchNorm2d(96, eps=1e-05, momentum=0.1, affine=True, track_running_stats=True)\n",
       "        (1): ReLU(inplace)\n",
       "        (2): Conv2d(96, 96, kernel_size=(3, 3), stride=(1, 1), padding=(1, 1), bias=False)\n",
       "      )\n",
       "    )\n",
       "    (3): BasicBlock(\n",
       "      (bn): BatchNorm2d(96, eps=1e-05, momentum=0.1, affine=True, track_running_stats=True)\n",
       "      (conv1): Conv2d(96, 96, kernel_size=(3, 3), stride=(1, 1), padding=(1, 1), bias=False)\n",
       "      (conv2): Sequential(\n",
       "        (0): BatchNorm2d(96, eps=1e-05, momentum=0.1, affine=True, track_running_stats=True)\n",
       "        (1): ReLU(inplace)\n",
       "        (2): Conv2d(96, 96, kernel_size=(3, 3), stride=(1, 1), padding=(1, 1), bias=False)\n",
       "      )\n",
       "    )\n",
       "    (4): BasicBlock(\n",
       "      (bn): BatchNorm2d(96, eps=1e-05, momentum=0.1, affine=True, track_running_stats=True)\n",
       "      (conv1): Conv2d(96, 192, kernel_size=(3, 3), stride=(2, 2), padding=(1, 1), bias=False)\n",
       "      (conv2): Sequential(\n",
       "        (0): BatchNorm2d(192, eps=1e-05, momentum=0.1, affine=True, track_running_stats=True)\n",
       "        (1): ReLU(inplace)\n",
       "        (2): Conv2d(192, 192, kernel_size=(3, 3), stride=(1, 1), padding=(1, 1), bias=False)\n",
       "      )\n",
       "      (shortcut): Conv2d(96, 192, kernel_size=(1, 1), stride=(2, 2), bias=False)\n",
       "    )\n",
       "    (5): BasicBlock(\n",
       "      (bn): BatchNorm2d(192, eps=1e-05, momentum=0.1, affine=True, track_running_stats=True)\n",
       "      (conv1): Conv2d(192, 192, kernel_size=(3, 3), stride=(1, 1), padding=(1, 1), bias=False)\n",
       "      (conv2): Sequential(\n",
       "        (0): BatchNorm2d(192, eps=1e-05, momentum=0.1, affine=True, track_running_stats=True)\n",
       "        (1): ReLU(inplace)\n",
       "        (2): Conv2d(192, 192, kernel_size=(3, 3), stride=(1, 1), padding=(1, 1), bias=False)\n",
       "      )\n",
       "    )\n",
       "    (6): BasicBlock(\n",
       "      (bn): BatchNorm2d(192, eps=1e-05, momentum=0.1, affine=True, track_running_stats=True)\n",
       "      (conv1): Conv2d(192, 192, kernel_size=(3, 3), stride=(1, 1), padding=(1, 1), bias=False)\n",
       "      (conv2): Sequential(\n",
       "        (0): BatchNorm2d(192, eps=1e-05, momentum=0.1, affine=True, track_running_stats=True)\n",
       "        (1): ReLU(inplace)\n",
       "        (2): Conv2d(192, 192, kernel_size=(3, 3), stride=(1, 1), padding=(1, 1), bias=False)\n",
       "      )\n",
       "    )\n",
       "    (7): BasicBlock(\n",
       "      (bn): BatchNorm2d(192, eps=1e-05, momentum=0.1, affine=True, track_running_stats=True)\n",
       "      (conv1): Conv2d(192, 384, kernel_size=(3, 3), stride=(2, 2), padding=(1, 1), bias=False)\n",
       "      (conv2): Sequential(\n",
       "        (0): BatchNorm2d(384, eps=1e-05, momentum=0.1, affine=True, track_running_stats=True)\n",
       "        (1): ReLU(inplace)\n",
       "        (2): Conv2d(384, 384, kernel_size=(3, 3), stride=(1, 1), padding=(1, 1), bias=False)\n",
       "      )\n",
       "      (shortcut): Conv2d(192, 384, kernel_size=(1, 1), stride=(2, 2), bias=False)\n",
       "    )\n",
       "    (8): BasicBlock(\n",
       "      (bn): BatchNorm2d(384, eps=1e-05, momentum=0.1, affine=True, track_running_stats=True)\n",
       "      (conv1): Conv2d(384, 384, kernel_size=(3, 3), stride=(1, 1), padding=(1, 1), bias=False)\n",
       "      (conv2): Sequential(\n",
       "        (0): BatchNorm2d(384, eps=1e-05, momentum=0.1, affine=True, track_running_stats=True)\n",
       "        (1): ReLU(inplace)\n",
       "        (2): Conv2d(384, 384, kernel_size=(3, 3), stride=(1, 1), padding=(1, 1), bias=False)\n",
       "      )\n",
       "    )\n",
       "    (9): BasicBlock(\n",
       "      (bn): BatchNorm2d(384, eps=1e-05, momentum=0.1, affine=True, track_running_stats=True)\n",
       "      (conv1): Conv2d(384, 384, kernel_size=(3, 3), stride=(1, 1), padding=(1, 1), bias=False)\n",
       "      (conv2): Sequential(\n",
       "        (0): BatchNorm2d(384, eps=1e-05, momentum=0.1, affine=True, track_running_stats=True)\n",
       "        (1): ReLU(inplace)\n",
       "        (2): Conv2d(384, 384, kernel_size=(3, 3), stride=(1, 1), padding=(1, 1), bias=False)\n",
       "      )\n",
       "    )\n",
       "    (10): BatchNorm2d(384, eps=1e-05, momentum=0.1, affine=True, track_running_stats=True)\n",
       "    (11): ReLU(inplace)\n",
       "    (12): AdaptiveAvgPool2d(output_size=1)\n",
       "    (13): Flatten()\n",
       "    (14): Linear(in_features=384, out_features=10, bias=True)\n",
       "  )\n",
       ")"
      ]
     },
     "execution_count": 114,
     "metadata": {},
     "output_type": "execute_result"
    }
   ],
   "source": [
    "experiment_learner.model.learnedModel"
   ]
  },
  {
   "cell_type": "code",
   "execution_count": 115,
   "metadata": {},
   "outputs": [],
   "source": [
    "unshuffledData = get_data(32, 128, with_shuffle=False)\n",
    "unshuffledModel = Learner(unshuffledData, experiment_learner.model.learnedModel)"
   ]
  },
  {
   "cell_type": "code",
   "execution_count": 116,
   "metadata": {},
   "outputs": [],
   "source": [
    "ps, ys = unshuffledModel.get_preds()"
   ]
  },
  {
   "cell_type": "code",
   "execution_count": 117,
   "metadata": {},
   "outputs": [
    {
     "data": {
      "text/plain": [
       "tensor(0.8440)"
      ]
     },
     "execution_count": 117,
     "metadata": {},
     "output_type": "execute_result"
    }
   ],
   "source": [
    "accuracy(ps, ys)"
   ]
  }
 ],
 "metadata": {
  "kernelspec": {
   "display_name": "fastai",
   "language": "python",
   "name": "fastai"
  },
  "language_info": {
   "codemirror_mode": {
    "name": "ipython",
    "version": 3
   },
   "file_extension": ".py",
   "mimetype": "text/x-python",
   "name": "python",
   "nbconvert_exporter": "python",
   "pygments_lexer": "ipython3",
   "version": "3.6.5"
  }
 },
 "nbformat": 4,
 "nbformat_minor": 2
}

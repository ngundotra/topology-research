{
 "cells": [
  {
   "cell_type": "markdown",
   "metadata": {},
   "source": [
    "# Unshuffling Experiments"
   ]
  },
  {
   "cell_type": "code",
   "execution_count": 10,
   "metadata": {},
   "outputs": [],
   "source": [
    "%matplotlib inline\n",
    "%reload_ext autoreload\n",
    "%autoreload 2"
   ]
  },
  {
   "cell_type": "code",
   "execution_count": 11,
   "metadata": {},
   "outputs": [],
   "source": [
    "import numpy as np\n",
    "import matplotlib.pyplot as plt"
   ]
  },
  {
   "cell_type": "code",
   "execution_count": 12,
   "metadata": {},
   "outputs": [],
   "source": [
    "from fastai.vision import *\n",
    "import torch\n",
    "import torchvision.transforms"
   ]
  },
  {
   "cell_type": "code",
   "execution_count": 13,
   "metadata": {},
   "outputs": [],
   "source": [
    "torch.cuda.set_device(1)"
   ]
  },
  {
   "cell_type": "code",
   "execution_count": 290,
   "metadata": {},
   "outputs": [],
   "source": [
    "from PixelShuffle import *"
   ]
  },
  {
   "cell_type": "code",
   "execution_count": 235,
   "metadata": {},
   "outputs": [],
   "source": [
    "class SoftPermutation(torch.nn.Module):\n",
    "    \"\"\"Permutes images\"\"\"\n",
    "    def __init__(self, n, init_method, **kwargs):\n",
    "        super(SoftPermutation, self).__init__()\n",
    "        self.n = n\n",
    "        self.permMatrix = torch.nn.Linear(n, n)\n",
    "        if init_method.lower() == 'identity':\n",
    "            self.permMatrix.weight.data = torch.eye(n)\n",
    "        elif init_method.lower() == 'solution':\n",
    "            self.permMatrix.weight.data = kwargs['data'].transpose(0,1)\n",
    "        else:\n",
    "            raise ValueError(f\"Init method unrecognized: {init_method}\")\n",
    "    \n",
    "    def forward(self, x):\n",
    "        \"\"\"Performs forward on normal NxCxHxW image tensors\"\"\"\n",
    "        shape = x.shape\n",
    "        x = torch.reshape(x, (shape[0], shape[1], self.n))\n",
    "        x = self.permMatrix(x)\n",
    "        x = torch.reshape(x, shape)\n",
    "        return x\n",
    "    \n",
    "class StackedUnshuffler(torch.nn.Module):\n",
    "    def __init__(self, n, learnedModel, init_method, **kwargs):\n",
    "        super(StackedUnshuffler, self).__init__()\n",
    "        self.permutation = SoftPermutation(n, init_method, **kwargs)\n",
    "        self.learnedModel = learnedModel\n",
    "    \n",
    "    def forward(self, x):\n",
    "        x = self.permutation(x)\n",
    "        x = self.learnedModel(x)\n",
    "        return x\n",
    "    \n",
    "    def freeze_model(self):\n",
    "        for p in self.learnedModel.parameters():\n",
    "            p.requires_grad = False"
   ]
  },
  {
   "cell_type": "markdown",
   "metadata": {},
   "source": [
    "Visualizing the solution permutation matrix"
   ]
  },
  {
   "cell_type": "code",
   "execution_count": 236,
   "metadata": {},
   "outputs": [
    {
     "data": {
      "text/plain": [
       "<matplotlib.image.AxesImage at 0x7fcb71e520f0>"
      ]
     },
     "execution_count": 236,
     "metadata": {},
     "output_type": "execute_result"
    },
    {
     "data": {
      "image/png": "[encoded data removed]",
      "text/plain": [
       "<Figure size 288x288 with 1 Axes>"
      ]
     },
     "metadata": {},
     "output_type": "display_data"
    }
   ],
   "source": [
    "data, cifarShuffle = get_data_with_tfm(32, 128)\n",
    "plt.matshow(cifarShuffle.createUnPermuteData())"
   ]
  },
  {
   "cell_type": "markdown",
   "metadata": {},
   "source": [
    "Load learned model"
   ]
  },
  {
   "cell_type": "code",
   "execution_count": 237,
   "metadata": {},
   "outputs": [
    {
     "data": {
      "text/plain": [
       "IncompatibleKeys(missing_keys=[], unexpected_keys=[])"
      ]
     },
     "execution_count": 237,
     "metadata": {},
     "output_type": "execute_result"
    }
   ],
   "source": [
    "learnedModel = models.wrn_22()\n",
    "learnedModel.load_state_dict(torch.load('wrn22_pyramid_cycle'))"
   ]
  },
  {
   "cell_type": "markdown",
   "metadata": {},
   "source": [
    "Create unshuffled model arch"
   ]
  },
  {
   "cell_type": "code",
   "execution_count": 238,
   "metadata": {},
   "outputs": [],
   "source": [
    "experiment_arch = StackedUnshuffler(32*32, learnedModel, 'solution', data=cifarShuffle.createUnPermuteData())\n",
    "experiment_arch.freeze_model()"
   ]
  },
  {
   "cell_type": "code",
   "execution_count": 239,
   "metadata": {},
   "outputs": [],
   "source": [
    "experiment_learner = Learner(data, experiment_arch, metrics=[accuracy])"
   ]
  },
  {
   "cell_type": "code",
   "execution_count": 240,
   "metadata": {},
   "outputs": [],
   "source": [
    "preds, y, loss = experiment_learner.get_preds(with_loss=True)"
   ]
  },
  {
   "cell_type": "code",
   "execution_count": 241,
   "metadata": {},
   "outputs": [
    {
     "data": {
      "text/plain": [
       "tensor(0.1000)"
      ]
     },
     "execution_count": 241,
     "metadata": {},
     "output_type": "execute_result"
    }
   ],
   "source": [
    "accuracy(preds, y)"
   ]
  },
  {
   "cell_type": "code",
   "execution_count": 242,
   "metadata": {},
   "outputs": [],
   "source": [
    "img = data.train_ds[0][0]"
   ]
  },
  {
   "cell_type": "code",
   "execution_count": 243,
   "metadata": {},
   "outputs": [],
   "source": [
    "unshuffled = experiment_arch.permutation(img.data.unsqueeze(0).cuda())\n",
    "solvedImg = Image(unshuffled[0].detach())"
   ]
  },
  {
   "cell_type": "code",
   "execution_count": 286,
   "metadata": {},
   "outputs": [],
   "source": [
    "def solve(tensor, shuffler):\n",
    "    reshaper = shuffler.createUnPermuteData()\n",
    "    tensor = tensor.permute(1,2,0)\n",
    "    og_shape = tensor.shape\n",
    "#     tensor = torch.reshape(tensor, (-1, og_shape[-1]))\n",
    "    tensor = tensor.reshape((og_shape[0]*og_shape[1], -1))[shuffler.unpermuteVector]\n",
    "#     tensor = torch.matmul(tensor, reshaper.transpose(0,1))\n",
    "    tensor = torch.reshape(tensor, og_shape)\n",
    "    tensor = tensor.permute(2,0,1)\n",
    "    return tensor"
   ]
  },
  {
   "cell_type": "code",
   "execution_count": 284,
   "metadata": {},
   "outputs": [
    {
     "data": {
      "text/plain": [
       "(tensor([[[ 0.,  1.,  2.],\n",
       "          [ 3.,  4.,  5.],\n",
       "          [ 6.,  7.,  8.],\n",
       "          [ 9., 10., 11.]],\n",
       " \n",
       "         [[12., 13., 14.],\n",
       "          [15., 16., 17.],\n",
       "          [18., 19., 20.],\n",
       "          [21., 22., 23.]],\n",
       " \n",
       "         [[24., 25., 26.],\n",
       "          [27., 28., 29.],\n",
       "          [30., 31., 32.],\n",
       "          [33., 34., 35.]],\n",
       " \n",
       "         [[36., 37., 38.],\n",
       "          [39., 40., 41.],\n",
       "          [42., 43., 44.],\n",
       "          [45., 46., 47.]]]),\n",
       " array([ 6, 15, 11,  8, 12,  0, 14, 13, 10,  7,  2,  5,  1,  3,  9,  4]))"
      ]
     },
     "execution_count": 284,
     "metadata": {},
     "output_type": "execute_result"
    }
   ],
   "source": [
    "tmpShuffle = GlobalShuffle(4, 4)\n",
    "\n",
    "x = torch.Tensor(list(range(48))).reshape((4,4,3)).reshape((16, 3))\n",
    "y = x[tmpShuffle.permuteVector]\n",
    "y = y[tmpShuffle.unpermuteVector]\n",
    "y.reshape((4,4,3)), tmpShuffle.permuteVector"
   ]
  },
  {
   "cell_type": "code",
   "execution_count": 287,
   "metadata": {},
   "outputs": [
    {
     "data": {
      "text/plain": [
       "<matplotlib.image.AxesImage at 0x7fcb72424630>"
      ]
     },
     "execution_count": 287,
     "metadata": {},
     "output_type": "execute_result"
    },
    {
     "data": {
      "image/png": "[encoded data removed]",
      "text/plain": [
       "<Figure size 432x288 with 3 Axes>"
      ]
     },
     "metadata": {},
     "output_type": "display_data"
    }
   ],
   "source": [
    "fig, ax = plt.subplots(ncols=3)\n",
    "img.show(ax[0])\n",
    "solvedImg.show(ax[1])\n",
    "ax[2].imshow(solve(img.data, cifarShuffle).permute(1,2,0))\n",
    "# Image(cifarShuffle.unPermuteTensor(img.data)).show(ax[2])"
   ]
  },
  {
   "cell_type": "code",
   "execution_count": null,
   "metadata": {},
   "outputs": [],
   "source": [
    "cifarShuffle.unPermuteTensor(img.data)"
   ]
  },
  {
   "cell_type": "code",
   "execution_count": 291,
   "metadata": {},
   "outputs": [
    {
     "data": {
      "text/plain": [
       "True"
      ]
     },
     "execution_count": 291,
     "metadata": {},
     "output_type": "execute_result"
    }
   ],
   "source": [
    "run_tests()"
   ]
  }
 ],
 "metadata": {
  "kernelspec": {
   "display_name": "fastai",
   "language": "python",
   "name": "fastai"
  },
  "language_info": {
   "codemirror_mode": {
    "name": "ipython",
    "version": 3
   },
   "file_extension": ".py",
   "mimetype": "text/x-python",
   "name": "python",
   "nbconvert_exporter": "python",
   "pygments_lexer": "ipython3",
   "version": "3.6.5"
  }
 },
 "nbformat": 4,
 "nbformat_minor": 2
}

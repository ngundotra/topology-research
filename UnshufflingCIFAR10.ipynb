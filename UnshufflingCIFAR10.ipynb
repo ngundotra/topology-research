{
 "cells": [
  {
   "cell_type": "markdown",
   "metadata": {},
   "source": [
    "# Unshuffling Experiments"
   ]
  },
  {
   "cell_type": "code",
   "execution_count": 1,
   "metadata": {},
   "outputs": [],
   "source": [
    "%matplotlib inline\n",
    "%reload_ext autoreload\n",
    "%autoreload 2"
   ]
  },
  {
   "cell_type": "code",
   "execution_count": 2,
   "metadata": {},
   "outputs": [],
   "source": [
    "import numpy as np\n",
    "import matplotlib.pyplot as plt"
   ]
  },
  {
   "cell_type": "code",
   "execution_count": 3,
   "metadata": {},
   "outputs": [],
   "source": [
    "from fastai.vision import *\n",
    "import torch\n",
    "import torchvision.transforms"
   ]
  },
  {
   "cell_type": "code",
   "execution_count": 4,
   "metadata": {},
   "outputs": [],
   "source": [
    "torch.cuda.set_device(1)"
   ]
  },
  {
   "cell_type": "code",
   "execution_count": 5,
   "metadata": {},
   "outputs": [],
   "source": [
    "from PixelShuffle import *"
   ]
  },
  {
   "cell_type": "code",
   "execution_count": 6,
   "metadata": {},
   "outputs": [],
   "source": [
    "class SoftPermutation(torch.nn.Module):\n",
    "    \"\"\"Permutes images\"\"\"\n",
    "    def __init__(self, n, init_method, **kwargs):\n",
    "        super(SoftPermutation, self).__init__()\n",
    "        self.n = n\n",
    "        self.permMatrix = torch.nn.Linear(n, n)\n",
    "        if init_method.lower() == 'identity':\n",
    "            self.permMatrix.weight.data = torch.eye(n)\n",
    "        elif init_method.lower() == 'solution':\n",
    "            self.permMatrix.weight.data = kwargs['data'].transpose(0,1)\n",
    "        else:\n",
    "            raise ValueError(f\"Init method unrecognized: {init_method}\")\n",
    "    \n",
    "    def forward(self, x):\n",
    "        \"\"\"Performs forward on normal NxCxHxW image tensors\"\"\"\n",
    "        shape = x.shape\n",
    "        x = torch.reshape(x, (shape[0], shape[1], self.n))\n",
    "        x = self.permMatrix(x)\n",
    "        x = torch.reshape(x, shape)\n",
    "        return x\n",
    "    \n",
    "class StackedUnshuffler(torch.nn.Module):\n",
    "    def __init__(self, n, learnedModel, init_method, **kwargs):\n",
    "        super(StackedUnshuffler, self).__init__()\n",
    "        self.permutation = SoftPermutation(n, init_method, **kwargs)\n",
    "        self.learnedModel = learnedModel\n",
    "    \n",
    "    def forward(self, x):\n",
    "        x = self.permutation(x)\n",
    "        x = self.learnedModel(x)\n",
    "        return x\n",
    "    \n",
    "    def freeze_model(self):\n",
    "        c = 0\n",
    "        for p in self.learnedModel.parameters():\n",
    "            c += 1\n",
    "            p.requires_grad = False\n",
    "        print(f\"Froze {c} parameters\")"
   ]
  },
  {
   "cell_type": "markdown",
   "metadata": {},
   "source": [
    "Visualizing the solution permutation matrix"
   ]
  },
  {
   "cell_type": "code",
   "execution_count": 7,
   "metadata": {},
   "outputs": [
    {
     "data": {
      "text/plain": [
       "<matplotlib.image.AxesImage at 0x7ff295acd7f0>"
      ]
     },
     "execution_count": 7,
     "metadata": {},
     "output_type": "execute_result"
    },
    {
     "data": {
      "image/png": "[encoded data removed]",
      "text/plain": [
       "<Figure size 288x288 with 1 Axes>"
      ]
     },
     "metadata": {},
     "output_type": "display_data"
    }
   ],
   "source": [
    "data, cifarShuffle = get_data_with_tfm(32, 128)\n",
    "plt.matshow(cifarShuffle.createUnPermuteData())"
   ]
  },
  {
   "cell_type": "markdown",
   "metadata": {},
   "source": [
    "## Load learned model\n",
    "\n",
    "In order to first carry out experiments we want a few things.\n",
    "* A trained model (model.learnedModel)\n",
    "* A layer that can unpermute shuffled images (model.permutation)\n",
    "\n",
    "Right now, the _model.permutation_ layer is just a linear layer that shifts around the flattened image.\n",
    "\n",
    "Now we can begin Experiment 0: learning the model.permutation layer, given a trained model."
   ]
  },
  {
   "cell_type": "markdown",
   "metadata": {},
   "source": [
    "## Experiment 0:\n",
    "\n",
    "Solution validation. To make sure that we have a layer that can unpermute the images, we test out version of the solution weight matrix for the linear layer."
   ]
  },
  {
   "cell_type": "code",
   "execution_count": 8,
   "metadata": {},
   "outputs": [
    {
     "data": {
      "text/plain": [
       "IncompatibleKeys(missing_keys=[], unexpected_keys=[])"
      ]
     },
     "execution_count": 8,
     "metadata": {},
     "output_type": "execute_result"
    }
   ],
   "source": [
    "learnedModel = models.wrn_22()\n",
    "learnedModel.load_state_dict(torch.load('wrn22_pyramid_cycle'))"
   ]
  },
  {
   "cell_type": "markdown",
   "metadata": {},
   "source": [
    "## [0] Testing the solution data\n",
    "\n",
    "cifarShuffle.createUnPermuteData()"
   ]
  },
  {
   "cell_type": "code",
   "execution_count": 9,
   "metadata": {},
   "outputs": [],
   "source": [
    "experiment_arch = StackedUnshuffler(32*32, learnedModel, 'solution', data=cifarShuffle.createUnPermuteData())"
   ]
  },
  {
   "cell_type": "code",
   "execution_count": 10,
   "metadata": {},
   "outputs": [
    {
     "data": {
      "text/plain": [
       "StackedUnshuffler\n",
       "======================================================================\n",
       "Layer (type)         Output Shape         Param #    Trainable \n",
       "======================================================================\n",
       "Linear               [3, 1024]            1,049,600  False     \n",
       "______________________________________________________________________\n",
       "Conv2d               [16, 32, 32]         432        False     \n",
       "______________________________________________________________________\n",
       "BatchNorm2d          [16, 32, 32]         32         True      \n",
       "______________________________________________________________________\n",
       "Conv2d               [96, 32, 32]         13,824     False     \n",
       "______________________________________________________________________\n",
       "BatchNorm2d          [96, 32, 32]         192        True      \n",
       "______________________________________________________________________\n",
       "ReLU                 [96, 32, 32]         0          False     \n",
       "______________________________________________________________________\n",
       "Conv2d               [96, 32, 32]         82,944     False     \n",
       "______________________________________________________________________\n",
       "Conv2d               [96, 32, 32]         1,536      False     \n",
       "______________________________________________________________________\n",
       "BatchNorm2d          [96, 32, 32]         192        True      \n",
       "______________________________________________________________________\n",
       "Conv2d               [96, 32, 32]         82,944     False     \n",
       "______________________________________________________________________\n",
       "BatchNorm2d          [96, 32, 32]         192        True      \n",
       "______________________________________________________________________\n",
       "ReLU                 [96, 32, 32]         0          False     \n",
       "______________________________________________________________________\n",
       "Conv2d               [96, 32, 32]         82,944     False     \n",
       "______________________________________________________________________\n",
       "BatchNorm2d          [96, 32, 32]         192        True      \n",
       "______________________________________________________________________\n",
       "Conv2d               [96, 32, 32]         82,944     False     \n",
       "______________________________________________________________________\n",
       "BatchNorm2d          [96, 32, 32]         192        True      \n",
       "______________________________________________________________________\n",
       "ReLU                 [96, 32, 32]         0          False     \n",
       "______________________________________________________________________\n",
       "Conv2d               [96, 32, 32]         82,944     False     \n",
       "______________________________________________________________________\n",
       "BatchNorm2d          [96, 32, 32]         192        True      \n",
       "______________________________________________________________________\n",
       "Conv2d               [192, 16, 16]        165,888    False     \n",
       "______________________________________________________________________\n",
       "BatchNorm2d          [192, 16, 16]        384        True      \n",
       "______________________________________________________________________\n",
       "ReLU                 [192, 16, 16]        0          False     \n",
       "______________________________________________________________________\n",
       "Conv2d               [192, 16, 16]        331,776    False     \n",
       "______________________________________________________________________\n",
       "Conv2d               [192, 16, 16]        18,432     False     \n",
       "______________________________________________________________________\n",
       "BatchNorm2d          [192, 16, 16]        384        True      \n",
       "______________________________________________________________________\n",
       "Conv2d               [192, 16, 16]        331,776    False     \n",
       "______________________________________________________________________\n",
       "BatchNorm2d          [192, 16, 16]        384        True      \n",
       "______________________________________________________________________\n",
       "ReLU                 [192, 16, 16]        0          False     \n",
       "______________________________________________________________________\n",
       "Conv2d               [192, 16, 16]        331,776    False     \n",
       "______________________________________________________________________\n",
       "BatchNorm2d          [192, 16, 16]        384        True      \n",
       "______________________________________________________________________\n",
       "Conv2d               [192, 16, 16]        331,776    False     \n",
       "______________________________________________________________________\n",
       "BatchNorm2d          [192, 16, 16]        384        True      \n",
       "______________________________________________________________________\n",
       "ReLU                 [192, 16, 16]        0          False     \n",
       "______________________________________________________________________\n",
       "Conv2d               [192, 16, 16]        331,776    False     \n",
       "______________________________________________________________________\n",
       "BatchNorm2d          [192, 16, 16]        384        True      \n",
       "______________________________________________________________________\n",
       "Conv2d               [384, 8, 8]          663,552    False     \n",
       "______________________________________________________________________\n",
       "BatchNorm2d          [384, 8, 8]          768        True      \n",
       "______________________________________________________________________\n",
       "ReLU                 [384, 8, 8]          0          False     \n",
       "______________________________________________________________________\n",
       "Conv2d               [384, 8, 8]          1,327,104  False     \n",
       "______________________________________________________________________\n",
       "Conv2d               [384, 8, 8]          73,728     False     \n",
       "______________________________________________________________________\n",
       "BatchNorm2d          [384, 8, 8]          768        True      \n",
       "______________________________________________________________________\n",
       "Conv2d               [384, 8, 8]          1,327,104  False     \n",
       "______________________________________________________________________\n",
       "BatchNorm2d          [384, 8, 8]          768        True      \n",
       "______________________________________________________________________\n",
       "ReLU                 [384, 8, 8]          0          False     \n",
       "______________________________________________________________________\n",
       "Conv2d               [384, 8, 8]          1,327,104  False     \n",
       "______________________________________________________________________\n",
       "BatchNorm2d          [384, 8, 8]          768        True      \n",
       "______________________________________________________________________\n",
       "Conv2d               [384, 8, 8]          1,327,104  False     \n",
       "______________________________________________________________________\n",
       "BatchNorm2d          [384, 8, 8]          768        True      \n",
       "______________________________________________________________________\n",
       "ReLU                 [384, 8, 8]          0          False     \n",
       "______________________________________________________________________\n",
       "Conv2d               [384, 8, 8]          1,327,104  False     \n",
       "______________________________________________________________________\n",
       "BatchNorm2d          [384, 8, 8]          768        True      \n",
       "______________________________________________________________________\n",
       "ReLU                 [384, 8, 8]          0          False     \n",
       "______________________________________________________________________\n",
       "AdaptiveAvgPool2d    [384, 1, 1]          0          False     \n",
       "______________________________________________________________________\n",
       "Flatten              [384]                0          False     \n",
       "______________________________________________________________________\n",
       "Linear               [10]                 3,850      False     \n",
       "______________________________________________________________________\n",
       "\n",
       "Total params: 10,708,058\n",
       "Total trainable params: 8,096\n",
       "Total non-trainable params: 10,699,962\n",
       "Optimized with 'torch.optim.adam.Adam', betas=(0.9, 0.99)\n",
       "Using true weight decay as discussed in https://www.fast.ai/2018/07/02/adam-weight-decay/ \n",
       "Loss function : FlattenedLoss\n",
       "======================================================================\n",
       "Callbacks functions applied "
      ]
     },
     "execution_count": 10,
     "metadata": {},
     "output_type": "execute_result"
    }
   ],
   "source": [
    "experiment_learner = Learner(data, experiment_arch, metrics=[accuracy])\n",
    "# Create layer groups that we can use to freeze the model\n",
    "experiment_learner.split(lambda m:(m.learnedModel,))\n",
    "experiment_learner.freeze_to(2)\n",
    "experiment_learner.summary()"
   ]
  },
  {
   "cell_type": "code",
   "execution_count": 11,
   "metadata": {},
   "outputs": [],
   "source": [
    "preds, y, loss = experiment_learner.get_preds(with_loss=True)"
   ]
  },
  {
   "cell_type": "code",
   "execution_count": 12,
   "metadata": {},
   "outputs": [
    {
     "data": {
      "text/plain": [
       "tensor(0.9067)"
      ]
     },
     "execution_count": 12,
     "metadata": {},
     "output_type": "execute_result"
    }
   ],
   "source": [
    "accuracy(preds, y)"
   ]
  },
  {
   "cell_type": "markdown",
   "metadata": {},
   "source": [
    "For comparison: here are WRN22's performances\n",
    "\n",
    "| Dataset | Accuracy |\n",
    "|---------|---------------------------|\n",
    "| Unshuffled | 0.9075 |\n",
    "| Shuffled | 0.9073 |\n",
    "\n",
    "Accuracy w/ solution on shuffled: 0.9050"
   ]
  },
  {
   "cell_type": "code",
   "execution_count": 41,
   "metadata": {},
   "outputs": [
    {
     "name": "stderr",
     "output_type": "stream",
     "text": [
      "Clipping input data to the valid range for imshow with RGB data ([0..1] for floats or [0..255] for integers).\n",
      "Clipping input data to the valid range for imshow with RGB data ([0..1] for floats or [0..255] for integers).\n",
      "Clipping input data to the valid range for imshow with RGB data ([0..1] for floats or [0..255] for integers).\n"
     ]
    },
    {
     "name": "stdout",
     "output_type": "stream",
     "text": [
      "torch.Size([3, 32, 32])\n",
      "torch.Size([3, 32, 32])\n",
      "torch.Size([3, 32, 32])\n"
     ]
    },
    {
     "data": {
      "image/png": "[encoded data removed]",
      "text/plain": [
       "<Figure size 432x288 with 3 Axes>"
      ]
     },
     "metadata": {},
     "output_type": "display_data"
    },
    {
     "data": {
      "image/png": "[encoded data removed]",
      "text/plain": [
       "<Figure size 432x288 with 3 Axes>"
      ]
     },
     "metadata": {},
     "output_type": "display_data"
    },
    {
     "data": {
      "image/png": "[encoded data removed]",
      "text/plain": [
       "<Figure size 432x288 with 3 Axes>"
      ]
     },
     "metadata": {},
     "output_type": "display_data"
    }
   ],
   "source": [
    "cifarUnshuffledData = get_data(32, 128, with_shuffle=False)\n",
    "def visualizeIdxRange(givenRange, experiment_learner):\n",
    "    def quick_pred(image, layer=None):\n",
    "        model_input = image.data.unsqueeze(0).cuda()\n",
    "        if layer is None:\n",
    "            pred = model(model_input)\n",
    "            return pred.argmax()\n",
    "        elif layer.lower() == \"perm\":\n",
    "            model = experiment_learner.model.permutation\n",
    "            pred = model(model_input)\n",
    "            return pred\n",
    "        elif layer.lower() == \"learned\":\n",
    "            model = experiment_learner.model.learnedModel\n",
    "            pred = model(model_input)\n",
    "            return pred.argmax()\n",
    "        raise Exception(\"layer param wrong\")\n",
    "\n",
    "    for i in givenRange:\n",
    "        unshuffledImg, unshuffledLbl = cifarUnshuffledData.train_ds[i]\n",
    "        shuffledImg, shuffledLbl = data.train_ds[i]\n",
    "\n",
    "        fig, axes = plt.subplots(1,3)\n",
    "        top = axes\n",
    "        shuffledImg.show(top[0])\n",
    "        unshuffledImg.show(top[2])\n",
    "\n",
    "        solvedImgData = quick_pred(shuffledImg, layer='perm').squeeze().detach().cpu()\n",
    "        print(solvedImgData.shape)\n",
    "        solvedImg = Image(solvedImgData)\n",
    "        solvedImg.show(top[1])\n",
    "\n",
    "        predictedLbl = data.train_ds.y.reconstruct(quick_pred(solvedImg, layer='learned'))\n",
    "        predictedLbl2 = cifarUnshuffledData.train_ds.y.reconstruct(quick_pred(unshuffledImg, layer=\"learned\"))\n",
    "        top[0].set_title(f\"Shuffled: {shuffledLbl}\")\n",
    "        top[1].set_title(f\"Solved: ({predictedLbl})\")\n",
    "        top[2].set_title(f\"Unshuffled: ({predictedLbl2})\")\n",
    "\n",
    "visualizeIdxRange(range(20000,20003), experiment_learner)"
   ]
  },
  {
   "cell_type": "code",
   "execution_count": 15,
   "metadata": {},
   "outputs": [],
   "source": [
    "experiment_learner.layer_groups[0].requires_grad = True"
   ]
  },
  {
   "cell_type": "code",
   "execution_count": 16,
   "metadata": {
    "collapsed": true
   },
   "outputs": [
    {
     "data": {
      "text/html": [
       "\n",
       "    <div>\n",
       "        <style>\n",
       "            /* Turns off some styling */\n",
       "            progress {\n",
       "                /* gets rid of default border in Firefox and Opera. */\n",
       "                border: none;\n",
       "                /* Needs to be in here for Safari polyfill so background images work as expected. */\n",
       "                background-size: auto;\n",
       "            }\n",
       "            .progress-bar-interrupted, .progress-bar-interrupted::-webkit-progress-bar {\n",
       "                background: #F44336;\n",
       "            }\n",
       "        </style>\n",
       "      <progress value='12' class='' max='30', style='width:300px; height:20px; vertical-align: middle;'></progress>\n",
       "      40.00% [12/30 08:30<12:45]\n",
       "    </div>\n",
       "    \n",
       "<table border=\"1\" class=\"dataframe\">\n",
       "  <thead>\n",
       "    <tr style=\"text-align: left;\">\n",
       "      <th>epoch</th>\n",
       "      <th>train_loss</th>\n",
       "      <th>valid_loss</th>\n",
       "      <th>accuracy</th>\n",
       "      <th>time</th>\n",
       "    </tr>\n",
       "  </thead>\n",
       "  <tbody>\n",
       "    <tr>\n",
       "      <td>epoch</td>\n",
       "      <td>train_loss</td>\n",
       "      <td>valid_loss</td>\n",
       "      <td>accuracy</td>\n",
       "      <td>time</td>\n",
       "    </tr>\n",
       "    <tr>\n",
       "      <td>0</td>\n",
       "      <td>0.008564</td>\n",
       "      <td>0.430348</td>\n",
       "      <td>0.903500</td>\n",
       "      <td>00:41</td>\n",
       "    </tr>\n",
       "    <tr>\n",
       "      <td>0</td>\n",
       "      <td>0.008564</td>\n",
       "      <td>0.430348</td>\n",
       "      <td>0.903500</td>\n",
       "      <td>00:41</td>\n",
       "    </tr>\n",
       "    <tr>\n",
       "      <td>1</td>\n",
       "      <td>0.004495</td>\n",
       "      <td>0.458022</td>\n",
       "      <td>0.906900</td>\n",
       "      <td>00:42</td>\n",
       "    </tr>\n",
       "    <tr>\n",
       "      <td>1</td>\n",
       "      <td>0.004495</td>\n",
       "      <td>0.458022</td>\n",
       "      <td>0.906900</td>\n",
       "      <td>00:42</td>\n",
       "    </tr>\n",
       "    <tr>\n",
       "      <td>2</td>\n",
       "      <td>0.004992</td>\n",
       "      <td>0.492068</td>\n",
       "      <td>0.904900</td>\n",
       "      <td>00:42</td>\n",
       "    </tr>\n",
       "    <tr>\n",
       "      <td>2</td>\n",
       "      <td>0.004992</td>\n",
       "      <td>0.492068</td>\n",
       "      <td>0.904900</td>\n",
       "      <td>00:42</td>\n",
       "    </tr>\n",
       "    <tr>\n",
       "      <td>3</td>\n",
       "      <td>0.004078</td>\n",
       "      <td>0.522027</td>\n",
       "      <td>0.902500</td>\n",
       "      <td>00:42</td>\n",
       "    </tr>\n",
       "    <tr>\n",
       "      <td>3</td>\n",
       "      <td>0.004078</td>\n",
       "      <td>0.522027</td>\n",
       "      <td>0.902500</td>\n",
       "      <td>00:42</td>\n",
       "    </tr>\n",
       "    <tr>\n",
       "      <td>4</td>\n",
       "      <td>0.004859</td>\n",
       "      <td>0.540729</td>\n",
       "      <td>0.903600</td>\n",
       "      <td>00:42</td>\n",
       "    </tr>\n",
       "    <tr>\n",
       "      <td>4</td>\n",
       "      <td>0.004859</td>\n",
       "      <td>0.540729</td>\n",
       "      <td>0.903600</td>\n",
       "      <td>00:42</td>\n",
       "    </tr>\n",
       "    <tr>\n",
       "      <td>5</td>\n",
       "      <td>0.003561</td>\n",
       "      <td>0.550936</td>\n",
       "      <td>0.901000</td>\n",
       "      <td>00:42</td>\n",
       "    </tr>\n",
       "    <tr>\n",
       "      <td>5</td>\n",
       "      <td>0.003561</td>\n",
       "      <td>0.550936</td>\n",
       "      <td>0.901000</td>\n",
       "      <td>00:42</td>\n",
       "    </tr>\n",
       "    <tr>\n",
       "      <td>6</td>\n",
       "      <td>0.004282</td>\n",
       "      <td>0.578839</td>\n",
       "      <td>0.902600</td>\n",
       "      <td>00:42</td>\n",
       "    </tr>\n",
       "    <tr>\n",
       "      <td>6</td>\n",
       "      <td>0.004282</td>\n",
       "      <td>0.578839</td>\n",
       "      <td>0.902600</td>\n",
       "      <td>00:42</td>\n",
       "    </tr>\n",
       "    <tr>\n",
       "      <td>7</td>\n",
       "      <td>0.003406</td>\n",
       "      <td>0.577231</td>\n",
       "      <td>0.903900</td>\n",
       "      <td>00:42</td>\n",
       "    </tr>\n",
       "    <tr>\n",
       "      <td>7</td>\n",
       "      <td>0.003406</td>\n",
       "      <td>0.577231</td>\n",
       "      <td>0.903900</td>\n",
       "      <td>00:42</td>\n",
       "    </tr>\n",
       "    <tr>\n",
       "      <td>8</td>\n",
       "      <td>0.003195</td>\n",
       "      <td>0.569721</td>\n",
       "      <td>0.904100</td>\n",
       "      <td>00:43</td>\n",
       "    </tr>\n",
       "    <tr>\n",
       "      <td>8</td>\n",
       "      <td>0.003195</td>\n",
       "      <td>0.569721</td>\n",
       "      <td>0.904100</td>\n",
       "      <td>00:43</td>\n",
       "    </tr>\n",
       "    <tr>\n",
       "      <td>9</td>\n",
       "      <td>0.003613</td>\n",
       "      <td>0.627155</td>\n",
       "      <td>0.903100</td>\n",
       "      <td>00:43</td>\n",
       "    </tr>\n",
       "    <tr>\n",
       "      <td>9</td>\n",
       "      <td>0.003613</td>\n",
       "      <td>0.627155</td>\n",
       "      <td>0.903100</td>\n",
       "      <td>00:43</td>\n",
       "    </tr>\n",
       "    <tr>\n",
       "      <td>10</td>\n",
       "      <td>0.004126</td>\n",
       "      <td>0.588789</td>\n",
       "      <td>0.903700</td>\n",
       "      <td>00:43</td>\n",
       "    </tr>\n",
       "    <tr>\n",
       "      <td>10</td>\n",
       "      <td>0.004126</td>\n",
       "      <td>0.588789</td>\n",
       "      <td>0.903700</td>\n",
       "      <td>00:43</td>\n",
       "    </tr>\n",
       "    <tr>\n",
       "      <td>11</td>\n",
       "      <td>0.003020</td>\n",
       "      <td>0.603526</td>\n",
       "      <td>0.904500</td>\n",
       "      <td>00:43</td>\n",
       "    </tr>\n",
       "    <tr>\n",
       "      <td>11</td>\n",
       "      <td>0.003020</td>\n",
       "      <td>0.603526</td>\n",
       "      <td>0.904500</td>\n",
       "      <td>00:43</td>\n",
       "    </tr>\n",
       "  </tbody>\n",
       "</table><p>\n",
       "\n",
       "    <div>\n",
       "        <style>\n",
       "            /* Turns off some styling */\n",
       "            progress {\n",
       "                /* gets rid of default border in Firefox and Opera. */\n",
       "                border: none;\n",
       "                /* Needs to be in here for Safari polyfill so background images work as expected. */\n",
       "                background-size: auto;\n",
       "            }\n",
       "            .progress-bar-interrupted, .progress-bar-interrupted::-webkit-progress-bar {\n",
       "                background: #F44336;\n",
       "            }\n",
       "        </style>\n",
       "      <progress value='0' class='progress-bar-interrupted' max='390', style='width:300px; height:20px; vertical-align: middle;'></progress>\n",
       "      Interrupted\n",
       "    </div>\n",
       "    "
      ],
      "text/plain": [
       "<IPython.core.display.HTML object>"
      ]
     },
     "metadata": {},
     "output_type": "display_data"
    },
    {
     "name": "stderr",
     "output_type": "stream",
     "text": [
      "Exception ignored in: <bound method Image.__del__ of <PIL.Image.Image image mode=RGB size=32x32 at 0x7F17974CDE48>>\n",
      "Traceback (most recent call last):\n",
      "  File \"/home/ngundotra/.conda/envs/fastai/lib/python3.6/site-packages/PIL/Image.py\", line 600, in __del__\n",
      "    if (hasattr(self, 'fp') and hasattr(self, '_exclusive_fp')\n",
      "KeyboardInterrupt\n"
     ]
    },
    {
     "ename": "KeyboardInterrupt",
     "evalue": "",
     "output_type": "error",
     "traceback": [
      "\u001b[0;31m---------------------------------------------------------------------------\u001b[0m",
      "\u001b[0;31mKeyboardInterrupt\u001b[0m                         Traceback (most recent call last)",
      "\u001b[0;32m<ipython-input-16-950dc0f080d1>\u001b[0m in \u001b[0;36m<module>\u001b[0;34m()\u001b[0m\n\u001b[0;32m----> 1\u001b[0;31m \u001b[0mexperiment_learner\u001b[0m\u001b[0;34m.\u001b[0m\u001b[0mfit\u001b[0m\u001b[0;34m(\u001b[0m\u001b[0;36m30\u001b[0m\u001b[0;34m,\u001b[0m \u001b[0mcallbacks\u001b[0m\u001b[0;34m=\u001b[0m\u001b[0;34m[\u001b[0m\u001b[0mBnFreeze\u001b[0m\u001b[0;34m(\u001b[0m\u001b[0mexperiment_learner\u001b[0m\u001b[0;34m)\u001b[0m\u001b[0;34m]\u001b[0m\u001b[0;34m)\u001b[0m\u001b[0;34m\u001b[0m\u001b[0m\n\u001b[0m",
      "\u001b[0;32m~/.conda/envs/fastai/lib/python3.6/site-packages/fastai/basic_train.py\u001b[0m in \u001b[0;36mfit\u001b[0;34m(self, epochs, lr, wd, callbacks)\u001b[0m\n\u001b[1;32m    200\u001b[0m         \u001b[0mcallbacks\u001b[0m \u001b[0;34m=\u001b[0m \u001b[0;34m[\u001b[0m\u001b[0mcb\u001b[0m\u001b[0;34m(\u001b[0m\u001b[0mself\u001b[0m\u001b[0;34m)\u001b[0m \u001b[0;32mfor\u001b[0m \u001b[0mcb\u001b[0m \u001b[0;32min\u001b[0m \u001b[0mself\u001b[0m\u001b[0;34m.\u001b[0m\u001b[0mcallback_fns\u001b[0m \u001b[0;34m+\u001b[0m \u001b[0mlistify\u001b[0m\u001b[0;34m(\u001b[0m\u001b[0mdefaults\u001b[0m\u001b[0;34m.\u001b[0m\u001b[0mextra_callback_fns\u001b[0m\u001b[0;34m)\u001b[0m\u001b[0;34m]\u001b[0m \u001b[0;34m+\u001b[0m \u001b[0mlistify\u001b[0m\u001b[0;34m(\u001b[0m\u001b[0mcallbacks\u001b[0m\u001b[0;34m)\u001b[0m\u001b[0;34m\u001b[0m\u001b[0m\n\u001b[1;32m    201\u001b[0m         \u001b[0mself\u001b[0m\u001b[0;34m.\u001b[0m\u001b[0mcb_fns_registered\u001b[0m \u001b[0;34m=\u001b[0m \u001b[0;32mTrue\u001b[0m\u001b[0;34m\u001b[0m\u001b[0m\n\u001b[0;32m--> 202\u001b[0;31m         \u001b[0mfit\u001b[0m\u001b[0;34m(\u001b[0m\u001b[0mepochs\u001b[0m\u001b[0;34m,\u001b[0m \u001b[0mself\u001b[0m\u001b[0;34m,\u001b[0m \u001b[0mmetrics\u001b[0m\u001b[0;34m=\u001b[0m\u001b[0mself\u001b[0m\u001b[0;34m.\u001b[0m\u001b[0mmetrics\u001b[0m\u001b[0;34m,\u001b[0m \u001b[0mcallbacks\u001b[0m\u001b[0;34m=\u001b[0m\u001b[0mself\u001b[0m\u001b[0;34m.\u001b[0m\u001b[0mcallbacks\u001b[0m\u001b[0;34m+\u001b[0m\u001b[0mcallbacks\u001b[0m\u001b[0;34m)\u001b[0m\u001b[0;34m\u001b[0m\u001b[0m\n\u001b[0m\u001b[1;32m    203\u001b[0m \u001b[0;34m\u001b[0m\u001b[0m\n\u001b[1;32m    204\u001b[0m     \u001b[0;32mdef\u001b[0m \u001b[0mcreate_opt\u001b[0m\u001b[0;34m(\u001b[0m\u001b[0mself\u001b[0m\u001b[0;34m,\u001b[0m \u001b[0mlr\u001b[0m\u001b[0;34m:\u001b[0m\u001b[0mFloats\u001b[0m\u001b[0;34m,\u001b[0m \u001b[0mwd\u001b[0m\u001b[0;34m:\u001b[0m\u001b[0mFloats\u001b[0m\u001b[0;34m=\u001b[0m\u001b[0;36m0.\u001b[0m\u001b[0;34m)\u001b[0m\u001b[0;34m->\u001b[0m\u001b[0;32mNone\u001b[0m\u001b[0;34m:\u001b[0m\u001b[0;34m\u001b[0m\u001b[0m\n",
      "\u001b[0;32m~/.conda/envs/fastai/lib/python3.6/site-packages/fastai/basic_train.py\u001b[0m in \u001b[0;36mfit\u001b[0;34m(epochs, learn, callbacks, metrics)\u001b[0m\n\u001b[1;32m     99\u001b[0m             \u001b[0;32mfor\u001b[0m \u001b[0mxb\u001b[0m\u001b[0;34m,\u001b[0m\u001b[0myb\u001b[0m \u001b[0;32min\u001b[0m \u001b[0mprogress_bar\u001b[0m\u001b[0;34m(\u001b[0m\u001b[0mlearn\u001b[0m\u001b[0;34m.\u001b[0m\u001b[0mdata\u001b[0m\u001b[0;34m.\u001b[0m\u001b[0mtrain_dl\u001b[0m\u001b[0;34m,\u001b[0m \u001b[0mparent\u001b[0m\u001b[0;34m=\u001b[0m\u001b[0mpbar\u001b[0m\u001b[0;34m)\u001b[0m\u001b[0;34m:\u001b[0m\u001b[0;34m\u001b[0m\u001b[0m\n\u001b[1;32m    100\u001b[0m                 \u001b[0mxb\u001b[0m\u001b[0;34m,\u001b[0m \u001b[0myb\u001b[0m \u001b[0;34m=\u001b[0m \u001b[0mcb_handler\u001b[0m\u001b[0;34m.\u001b[0m\u001b[0mon_batch_begin\u001b[0m\u001b[0;34m(\u001b[0m\u001b[0mxb\u001b[0m\u001b[0;34m,\u001b[0m \u001b[0myb\u001b[0m\u001b[0;34m)\u001b[0m\u001b[0;34m\u001b[0m\u001b[0m\n\u001b[0;32m--> 101\u001b[0;31m                 \u001b[0mloss\u001b[0m \u001b[0;34m=\u001b[0m \u001b[0mloss_batch\u001b[0m\u001b[0;34m(\u001b[0m\u001b[0mlearn\u001b[0m\u001b[0;34m.\u001b[0m\u001b[0mmodel\u001b[0m\u001b[0;34m,\u001b[0m \u001b[0mxb\u001b[0m\u001b[0;34m,\u001b[0m \u001b[0myb\u001b[0m\u001b[0;34m,\u001b[0m \u001b[0mlearn\u001b[0m\u001b[0;34m.\u001b[0m\u001b[0mloss_func\u001b[0m\u001b[0;34m,\u001b[0m \u001b[0mlearn\u001b[0m\u001b[0;34m.\u001b[0m\u001b[0mopt\u001b[0m\u001b[0;34m,\u001b[0m \u001b[0mcb_handler\u001b[0m\u001b[0;34m)\u001b[0m\u001b[0;34m\u001b[0m\u001b[0m\n\u001b[0m\u001b[1;32m    102\u001b[0m                 \u001b[0;32mif\u001b[0m \u001b[0mcb_handler\u001b[0m\u001b[0;34m.\u001b[0m\u001b[0mon_batch_end\u001b[0m\u001b[0;34m(\u001b[0m\u001b[0mloss\u001b[0m\u001b[0;34m)\u001b[0m\u001b[0;34m:\u001b[0m \u001b[0;32mbreak\u001b[0m\u001b[0;34m\u001b[0m\u001b[0m\n\u001b[1;32m    103\u001b[0m \u001b[0;34m\u001b[0m\u001b[0m\n",
      "\u001b[0;32m~/.conda/envs/fastai/lib/python3.6/site-packages/fastai/basic_train.py\u001b[0m in \u001b[0;36mloss_batch\u001b[0;34m(model, xb, yb, loss_func, opt, cb_handler)\u001b[0m\n\u001b[1;32m     36\u001b[0m         \u001b[0;32mif\u001b[0m \u001b[0;32mnot\u001b[0m \u001b[0mcb_handler\u001b[0m\u001b[0;34m.\u001b[0m\u001b[0mon_step_end\u001b[0m\u001b[0;34m(\u001b[0m\u001b[0;34m)\u001b[0m\u001b[0;34m:\u001b[0m     \u001b[0mopt\u001b[0m\u001b[0;34m.\u001b[0m\u001b[0mzero_grad\u001b[0m\u001b[0;34m(\u001b[0m\u001b[0;34m)\u001b[0m\u001b[0;34m\u001b[0m\u001b[0m\n\u001b[1;32m     37\u001b[0m \u001b[0;34m\u001b[0m\u001b[0m\n\u001b[0;32m---> 38\u001b[0;31m     \u001b[0;32mreturn\u001b[0m \u001b[0mloss\u001b[0m\u001b[0;34m.\u001b[0m\u001b[0mdetach\u001b[0m\u001b[0;34m(\u001b[0m\u001b[0;34m)\u001b[0m\u001b[0;34m.\u001b[0m\u001b[0mcpu\u001b[0m\u001b[0;34m(\u001b[0m\u001b[0;34m)\u001b[0m\u001b[0;34m\u001b[0m\u001b[0m\n\u001b[0m\u001b[1;32m     39\u001b[0m \u001b[0;34m\u001b[0m\u001b[0m\n\u001b[1;32m     40\u001b[0m def get_preds(model:nn.Module, dl:DataLoader, pbar:Optional[PBar]=None, cb_handler:Optional[CallbackHandler]=None,\n",
      "\u001b[0;31mKeyboardInterrupt\u001b[0m: "
     ]
    }
   ],
   "source": [
    "experiment_learner.fit(30, callbacks=[BnFreeze(experiment_learner)])"
   ]
  },
  {
   "cell_type": "code",
   "execution_count": 17,
   "metadata": {},
   "outputs": [
    {
     "name": "stderr",
     "output_type": "stream",
     "text": [
      "Clipping input data to the valid range for imshow with RGB data ([0..1] for floats or [0..255] for integers).\n"
     ]
    },
    {
     "data": {
      "image/png": "[encoded data removed]",
      "text/plain": [
       "<Figure size 432x288 with 3 Axes>"
      ]
     },
     "metadata": {},
     "output_type": "display_data"
    },
    {
     "data": {
      "image/png": "[encoded data removed]",
      "text/plain": [
       "<Figure size 432x288 with 3 Axes>"
      ]
     },
     "metadata": {},
     "output_type": "display_data"
    },
    {
     "data": {
      "image/png": "[encoded data removed]",
      "text/plain": [
       "<Figure size 432x288 with 3 Axes>"
      ]
     },
     "metadata": {},
     "output_type": "display_data"
    }
   ],
   "source": [
    "visualizeIdxRange(range(20000,20003))"
   ]
  },
  {
   "cell_type": "markdown",
   "metadata": {},
   "source": [
    "## [0] Results: \n",
    "\n",
    "Even when we freeze the trained model's layers, freeze its batchnorm statistics, and only train the permutation layer, we somehow still a slight improvement. Which is probably just the _model.permutation_ layer learning how to manipulate the frozen trained model."
   ]
  },
  {
   "cell_type": "markdown",
   "metadata": {},
   "source": [
    "# Experiment 1:\n",
    "\n",
    "Training the _model.permutation_ layer from scratch (aka not from the solution), given a trained model."
   ]
  },
  {
   "cell_type": "code",
   "execution_count": 70,
   "metadata": {},
   "outputs": [],
   "source": [
    "random_weight_init = cifarShuffle.createUnPermuteData()\n",
    "random_weight_init = torch.nn.init.kaiming_uniform_(random_weight_init, np.sqrt(5))"
   ]
  },
  {
   "cell_type": "code",
   "execution_count": 27,
   "metadata": {},
   "outputs": [],
   "source": [
    "experiment_arch = StackedUnshuffler(32*32, learnedModel, 'solution', data=random_weight_init)\n",
    "experiment_learner = Learner(data, experiment_arch, metrics=[accuracy])\n",
    "# Create layer groups that we can use to freeze the model\n",
    "experiment_learner.split(lambda m:(m.learnedModel,))\n",
    "experiment_learner.freeze_to(2)"
   ]
  },
  {
   "cell_type": "markdown",
   "metadata": {},
   "source": [
    "Allow the permutation layer to learn."
   ]
  },
  {
   "cell_type": "code",
   "execution_count": 28,
   "metadata": {},
   "outputs": [],
   "source": [
    "experiment_learner.layer_groups[0].requires_grad = True"
   ]
  },
  {
   "cell_type": "code",
   "execution_count": 29,
   "metadata": {},
   "outputs": [
    {
     "data": {
      "text/html": [
       "<table border=\"1\" class=\"dataframe\">\n",
       "  <thead>\n",
       "    <tr style=\"text-align: left;\">\n",
       "      <th>epoch</th>\n",
       "      <th>train_loss</th>\n",
       "      <th>valid_loss</th>\n",
       "      <th>accuracy</th>\n",
       "      <th>time</th>\n",
       "    </tr>\n",
       "  </thead>\n",
       "  <tbody>\n",
       "    <tr>\n",
       "      <td>0</td>\n",
       "      <td>1.986012</td>\n",
       "      <td>1.921266</td>\n",
       "      <td>0.293300</td>\n",
       "      <td>00:42</td>\n",
       "    </tr>\n",
       "    <tr>\n",
       "      <td>1</td>\n",
       "      <td>1.775053</td>\n",
       "      <td>1.752066</td>\n",
       "      <td>0.353100</td>\n",
       "      <td>00:42</td>\n",
       "    </tr>\n",
       "    <tr>\n",
       "      <td>2</td>\n",
       "      <td>1.689058</td>\n",
       "      <td>1.685506</td>\n",
       "      <td>0.393800</td>\n",
       "      <td>00:42</td>\n",
       "    </tr>\n",
       "    <tr>\n",
       "      <td>3</td>\n",
       "      <td>1.628906</td>\n",
       "      <td>1.629411</td>\n",
       "      <td>0.416800</td>\n",
       "      <td>00:41</td>\n",
       "    </tr>\n",
       "    <tr>\n",
       "      <td>4</td>\n",
       "      <td>1.597624</td>\n",
       "      <td>1.592561</td>\n",
       "      <td>0.425200</td>\n",
       "      <td>00:42</td>\n",
       "    </tr>\n",
       "    <tr>\n",
       "      <td>5</td>\n",
       "      <td>1.554024</td>\n",
       "      <td>1.593081</td>\n",
       "      <td>0.423400</td>\n",
       "      <td>00:42</td>\n",
       "    </tr>\n",
       "    <tr>\n",
       "      <td>6</td>\n",
       "      <td>1.534132</td>\n",
       "      <td>1.575534</td>\n",
       "      <td>0.431900</td>\n",
       "      <td>00:42</td>\n",
       "    </tr>\n",
       "    <tr>\n",
       "      <td>7</td>\n",
       "      <td>1.528426</td>\n",
       "      <td>1.563714</td>\n",
       "      <td>0.437200</td>\n",
       "      <td>00:42</td>\n",
       "    </tr>\n",
       "    <tr>\n",
       "      <td>8</td>\n",
       "      <td>1.529840</td>\n",
       "      <td>1.545879</td>\n",
       "      <td>0.439700</td>\n",
       "      <td>00:44</td>\n",
       "    </tr>\n",
       "    <tr>\n",
       "      <td>9</td>\n",
       "      <td>1.500362</td>\n",
       "      <td>1.568620</td>\n",
       "      <td>0.439200</td>\n",
       "      <td>00:44</td>\n",
       "    </tr>\n",
       "    <tr>\n",
       "      <td>10</td>\n",
       "      <td>1.500467</td>\n",
       "      <td>1.560187</td>\n",
       "      <td>0.440300</td>\n",
       "      <td>00:44</td>\n",
       "    </tr>\n",
       "    <tr>\n",
       "      <td>11</td>\n",
       "      <td>1.488482</td>\n",
       "      <td>1.533461</td>\n",
       "      <td>0.443700</td>\n",
       "      <td>00:43</td>\n",
       "    </tr>\n",
       "    <tr>\n",
       "      <td>12</td>\n",
       "      <td>1.488838</td>\n",
       "      <td>1.529476</td>\n",
       "      <td>0.447500</td>\n",
       "      <td>00:43</td>\n",
       "    </tr>\n",
       "    <tr>\n",
       "      <td>13</td>\n",
       "      <td>1.475520</td>\n",
       "      <td>1.552369</td>\n",
       "      <td>0.441800</td>\n",
       "      <td>00:43</td>\n",
       "    </tr>\n",
       "    <tr>\n",
       "      <td>14</td>\n",
       "      <td>1.474257</td>\n",
       "      <td>1.544954</td>\n",
       "      <td>0.444200</td>\n",
       "      <td>00:43</td>\n",
       "    </tr>\n",
       "    <tr>\n",
       "      <td>15</td>\n",
       "      <td>1.471585</td>\n",
       "      <td>1.546656</td>\n",
       "      <td>0.443100</td>\n",
       "      <td>00:43</td>\n",
       "    </tr>\n",
       "    <tr>\n",
       "      <td>16</td>\n",
       "      <td>1.454950</td>\n",
       "      <td>1.548540</td>\n",
       "      <td>0.447600</td>\n",
       "      <td>00:43</td>\n",
       "    </tr>\n",
       "    <tr>\n",
       "      <td>17</td>\n",
       "      <td>1.460434</td>\n",
       "      <td>1.531095</td>\n",
       "      <td>0.453300</td>\n",
       "      <td>00:44</td>\n",
       "    </tr>\n",
       "    <tr>\n",
       "      <td>18</td>\n",
       "      <td>1.454574</td>\n",
       "      <td>1.517356</td>\n",
       "      <td>0.458600</td>\n",
       "      <td>00:43</td>\n",
       "    </tr>\n",
       "    <tr>\n",
       "      <td>19</td>\n",
       "      <td>1.454719</td>\n",
       "      <td>1.545847</td>\n",
       "      <td>0.453700</td>\n",
       "      <td>00:44</td>\n",
       "    </tr>\n",
       "    <tr>\n",
       "      <td>20</td>\n",
       "      <td>1.440823</td>\n",
       "      <td>1.523216</td>\n",
       "      <td>0.453200</td>\n",
       "      <td>00:43</td>\n",
       "    </tr>\n",
       "    <tr>\n",
       "      <td>21</td>\n",
       "      <td>1.438886</td>\n",
       "      <td>1.515050</td>\n",
       "      <td>0.451500</td>\n",
       "      <td>00:43</td>\n",
       "    </tr>\n",
       "    <tr>\n",
       "      <td>22</td>\n",
       "      <td>1.442976</td>\n",
       "      <td>1.543448</td>\n",
       "      <td>0.452600</td>\n",
       "      <td>00:43</td>\n",
       "    </tr>\n",
       "    <tr>\n",
       "      <td>23</td>\n",
       "      <td>1.449561</td>\n",
       "      <td>1.611278</td>\n",
       "      <td>0.429700</td>\n",
       "      <td>00:44</td>\n",
       "    </tr>\n",
       "    <tr>\n",
       "      <td>24</td>\n",
       "      <td>1.425384</td>\n",
       "      <td>1.507721</td>\n",
       "      <td>0.461800</td>\n",
       "      <td>00:44</td>\n",
       "    </tr>\n",
       "    <tr>\n",
       "      <td>25</td>\n",
       "      <td>1.433452</td>\n",
       "      <td>1.500752</td>\n",
       "      <td>0.463600</td>\n",
       "      <td>00:45</td>\n",
       "    </tr>\n",
       "    <tr>\n",
       "      <td>26</td>\n",
       "      <td>1.408158</td>\n",
       "      <td>1.511539</td>\n",
       "      <td>0.461300</td>\n",
       "      <td>00:45</td>\n",
       "    </tr>\n",
       "    <tr>\n",
       "      <td>27</td>\n",
       "      <td>1.420487</td>\n",
       "      <td>1.520191</td>\n",
       "      <td>0.460100</td>\n",
       "      <td>00:44</td>\n",
       "    </tr>\n",
       "    <tr>\n",
       "      <td>28</td>\n",
       "      <td>1.419339</td>\n",
       "      <td>1.503433</td>\n",
       "      <td>0.465200</td>\n",
       "      <td>00:46</td>\n",
       "    </tr>\n",
       "    <tr>\n",
       "      <td>29</td>\n",
       "      <td>1.434016</td>\n",
       "      <td>1.503780</td>\n",
       "      <td>0.464800</td>\n",
       "      <td>00:44</td>\n",
       "    </tr>\n",
       "  </tbody>\n",
       "</table>"
      ],
      "text/plain": [
       "<IPython.core.display.HTML object>"
      ]
     },
     "metadata": {},
     "output_type": "display_data"
    }
   ],
   "source": [
    "experiment_learner.fit(30)"
   ]
  },
  {
   "cell_type": "markdown",
   "metadata": {},
   "source": [
    "# Experiment 2: Penalizing Linear Shuffle Layer\n",
    "\n",
    "Penalize the layer's weights to 1 by adding it as a regularizer"
   ]
  },
  {
   "cell_type": "code",
   "execution_count": 42,
   "metadata": {},
   "outputs": [],
   "source": [
    "random_weight_init = cifarShuffle.createUnPermuteData()\n",
    "random_weight_init = torch.nn.init.kaiming_uniform_(random_weight_init, np.sqrt(5))\n",
    "\n",
    "experiment_arch = StackedUnshuffler(32*32, learnedModel, 'solution', data=random_weight_init)\n",
    "experiment_learner = Learner(data, experiment_arch, metrics=[accuracy])\n",
    "# Create layer groups that we can use to freeze the model\n",
    "experiment_learner.split(lambda m:(m.learnedModel,))\n",
    "experiment_learner.freeze_to(2)\n",
    "\n",
    "# Allow permutation layer to learn\n",
    "experiment_learner.layer_groups[0].requires_grad = True"
   ]
  },
  {
   "cell_type": "code",
   "execution_count": 48,
   "metadata": {},
   "outputs": [],
   "source": [
    "def regularizeWeightRows(weight):\n",
    "    loss = 0\n",
    "    for row in range(len(weight)):\n",
    "        loss += torch.norm(weight[row])\n",
    "    return loss\n",
    "\n",
    "normalLoss = experiment_learner.loss_func\n",
    "regularizedLoss = lambda *args, **kwargs: normalLoss(*args, **kwargs) + regularizeWeightRows(random_weight_init)"
   ]
  },
  {
   "cell_type": "code",
   "execution_count": 44,
   "metadata": {},
   "outputs": [],
   "source": [
    "experiment_learner.loss_func = regularizedLoss"
   ]
  },
  {
   "cell_type": "code",
   "execution_count": null,
   "metadata": {},
   "outputs": [
    {
     "data": {
      "text/html": [
       "\n",
       "    <div>\n",
       "        <style>\n",
       "            /* Turns off some styling */\n",
       "            progress {\n",
       "                /* gets rid of default border in Firefox and Opera. */\n",
       "                border: none;\n",
       "                /* Needs to be in here for Safari polyfill so background images work as expected. */\n",
       "                background-size: auto;\n",
       "            }\n",
       "            .progress-bar-interrupted, .progress-bar-interrupted::-webkit-progress-bar {\n",
       "                background: #F44336;\n",
       "            }\n",
       "        </style>\n",
       "      <progress value='12' class='' max='30', style='width:300px; height:20px; vertical-align: middle;'></progress>\n",
       "      40.00% [12/30 08:24<12:36]\n",
       "    </div>\n",
       "    \n",
       "<table border=\"1\" class=\"dataframe\">\n",
       "  <thead>\n",
       "    <tr style=\"text-align: left;\">\n",
       "      <th>epoch</th>\n",
       "      <th>train_loss</th>\n",
       "      <th>valid_loss</th>\n",
       "      <th>accuracy</th>\n",
       "      <th>time</th>\n",
       "    </tr>\n",
       "  </thead>\n",
       "  <tbody>\n",
       "    <tr>\n",
       "      <td>0</td>\n",
       "      <td>592.736206</td>\n",
       "      <td>592.730530</td>\n",
       "      <td>0.394000</td>\n",
       "      <td>00:41</td>\n",
       "    </tr>\n",
       "    <tr>\n",
       "      <td>1</td>\n",
       "      <td>592.666931</td>\n",
       "      <td>592.781494</td>\n",
       "      <td>0.376800</td>\n",
       "      <td>00:41</td>\n",
       "    </tr>\n",
       "    <tr>\n",
       "      <td>2</td>\n",
       "      <td>592.639038</td>\n",
       "      <td>592.706604</td>\n",
       "      <td>0.414200</td>\n",
       "      <td>00:41</td>\n",
       "    </tr>\n",
       "    <tr>\n",
       "      <td>3</td>\n",
       "      <td>592.621765</td>\n",
       "      <td>592.658691</td>\n",
       "      <td>0.427400</td>\n",
       "      <td>00:41</td>\n",
       "    </tr>\n",
       "    <tr>\n",
       "      <td>4</td>\n",
       "      <td>592.584045</td>\n",
       "      <td>592.759033</td>\n",
       "      <td>0.403100</td>\n",
       "      <td>00:41</td>\n",
       "    </tr>\n",
       "    <tr>\n",
       "      <td>5</td>\n",
       "      <td>592.581482</td>\n",
       "      <td>592.696228</td>\n",
       "      <td>0.419000</td>\n",
       "      <td>00:42</td>\n",
       "    </tr>\n",
       "    <tr>\n",
       "      <td>6</td>\n",
       "      <td>592.569885</td>\n",
       "      <td>592.613464</td>\n",
       "      <td>0.445400</td>\n",
       "      <td>00:42</td>\n",
       "    </tr>\n",
       "    <tr>\n",
       "      <td>7</td>\n",
       "      <td>592.576050</td>\n",
       "      <td>592.776306</td>\n",
       "      <td>0.391300</td>\n",
       "      <td>00:41</td>\n",
       "    </tr>\n",
       "    <tr>\n",
       "      <td>8</td>\n",
       "      <td>592.559082</td>\n",
       "      <td>592.731018</td>\n",
       "      <td>0.407800</td>\n",
       "      <td>00:42</td>\n",
       "    </tr>\n",
       "    <tr>\n",
       "      <td>9</td>\n",
       "      <td>592.551636</td>\n",
       "      <td>592.716248</td>\n",
       "      <td>0.415200</td>\n",
       "      <td>00:42</td>\n",
       "    </tr>\n",
       "    <tr>\n",
       "      <td>10</td>\n",
       "      <td>592.552734</td>\n",
       "      <td>592.657654</td>\n",
       "      <td>0.437600</td>\n",
       "      <td>00:42</td>\n",
       "    </tr>\n",
       "    <tr>\n",
       "      <td>11</td>\n",
       "      <td>592.539612</td>\n",
       "      <td>592.666748</td>\n",
       "      <td>0.421900</td>\n",
       "      <td>00:42</td>\n",
       "    </tr>\n",
       "  </tbody>\n",
       "</table><p>\n",
       "\n",
       "    <div>\n",
       "        <style>\n",
       "            /* Turns off some styling */\n",
       "            progress {\n",
       "                /* gets rid of default border in Firefox and Opera. */\n",
       "                border: none;\n",
       "                /* Needs to be in here for Safari polyfill so background images work as expected. */\n",
       "                background-size: auto;\n",
       "            }\n",
       "            .progress-bar-interrupted, .progress-bar-interrupted::-webkit-progress-bar {\n",
       "                background: #F44336;\n",
       "            }\n",
       "        </style>\n",
       "      <progress value='371' class='' max='390', style='width:300px; height:20px; vertical-align: middle;'></progress>\n",
       "      95.13% [371/390 00:36<00:01 592.5482]\n",
       "    </div>\n",
       "    "
      ],
      "text/plain": [
       "<IPython.core.display.HTML object>"
      ]
     },
     "metadata": {},
     "output_type": "display_data"
    }
   ],
   "source": [
    "experiment_learner.fit(30)"
   ]
  },
  {
   "cell_type": "markdown",
   "metadata": {},
   "source": [
    "# Experiment 3: Forced regularization\n",
    "\n",
    "Now let's see what happens when we force the weight layers to be normalize on each forward step."
   ]
  },
  {
   "cell_type": "code",
   "execution_count": 102,
   "metadata": {},
   "outputs": [],
   "source": [
    "random_weight_init = cifarShuffle.createUnPermuteData()\n",
    "# random_weight_init = torch.nn.init.kaiming_uniform_(random_weight_init, np.sqrt(5))\n",
    "torch.nn.init.normal_(random_weight_init, std=1.0/32/np.sqrt(2))\n",
    "experiment_arch = StackedUnshuffler(32*32, learnedModel, 'solution', data=random_weight_init)\n",
    "experiment_learner = Learner(data, experiment_arch, metrics=[accuracy])"
   ]
  },
  {
   "cell_type": "code",
   "execution_count": 103,
   "metadata": {},
   "outputs": [],
   "source": [
    "matrix = random_weight_init.numpy().T @ random_weight_init.numpy()"
   ]
  },
  {
   "cell_type": "code",
   "execution_count": 104,
   "metadata": {},
   "outputs": [
    {
     "data": {
      "text/plain": [
       "22.63384902073744"
      ]
     },
     "execution_count": 104,
     "metadata": {},
     "output_type": "execute_result"
    }
   ],
   "source": [
    "np.sqrt(np.sum((matrix - np.eye(1024))**2))"
   ]
  },
  {
   "cell_type": "code",
   "execution_count": 105,
   "metadata": {},
   "outputs": [
    {
     "data": {
      "text/plain": [
       "<matplotlib.image.AxesImage at 0x7ff3148950f0>"
      ]
     },
     "execution_count": 105,
     "metadata": {},
     "output_type": "execute_result"
    },
    {
     "data": {
      "image/png": "[encoded data removed]",
      "text/plain": [
       "<Figure size 288x288 with 1 Axes>"
      ]
     },
     "metadata": {},
     "output_type": "display_data"
    }
   ],
   "source": [
    "plt.matshow(random_weight_init.numpy().T @ random_weight_init.numpy())"
   ]
  },
  {
   "cell_type": "code",
   "execution_count": 106,
   "metadata": {},
   "outputs": [],
   "source": [
    "class CrossCorrelator(torch.nn.Module):\n",
    "    def __init__(self, k=3):\n",
    "        super(CrossCorrelator, self).__init__()\n",
    "        self.layer = torch.nn.Conv2d(3, 1, kernel_size=k, stride=1, padding_mode='zeros')\n",
    "        \n",
    "        filters = []\n",
    "        for i in [0, 1, 2, 3, 5, 6, 7, 8]:\n",
    "            curr_filter = np.zeros(9)\n",
    "            curr_filter[i] = 1\n",
    "            curr_filter\n",
    "            filters.append()\n",
    "        \n",
    "        random_conv_wt = torch.zeros((1,3,3,8)).cuda()\n",
    "        torch.nn.init.normal_(random_conv_wt)\n",
    "        self.layer.weight.data = random_conv_wt\n",
    "        self.layer.bias.data = torch.zeros_like(self.layer.bias.data).cuda()\n",
    "        \n",
    "    def forward(self, image):\n",
    "        return torch.sum(torch.flatten(self.layer(image)))"
   ]
  },
  {
   "cell_type": "code",
   "execution_count": 107,
   "metadata": {},
   "outputs": [],
   "source": [
    "def fitWithClamped(learner, epochs, alpha=1, beta=1, visualize=True):\n",
    "    model = learner.model\n",
    "    pbar = master_bar(range(epochs))\n",
    "    optim = torch.optim.Adadelta(model.parameters())\n",
    "    # Initialize Pixel Cross Correlator\n",
    "    cross_correlator = CrossCorrelator(k=3)\n",
    "    cross_correlator.requires_grad = False\n",
    "    # Set model up for training\n",
    "    for p in model.parameters():\n",
    "        p.requires_grad = True\n",
    "    \n",
    "    for epoch in pbar:\n",
    "        for xb, yb in progress_bar(learner.data.train_dl, parent=pbar):\n",
    "            permMatrix = model.permutation.permMatrix.weight\n",
    "            \n",
    "            unshuffled_layer = model.permutation(xb)\n",
    "            preds = model.learnedModel(unshuffled_layer)\n",
    "            loss = learner.loss_func(preds, yb)\n",
    "            ortho_loss = orthogonality(permMatrix)\n",
    "#             cross_corr_loss = cross_correlator(unshuffled_layer) / (len(xb))\n",
    "            real_loss = loss + alpha * ortho_loss \n",
    "            optim.zero_grad()\n",
    "            print(f\"Loss: {loss}, orthogonality: {ortho_loss}, cross correlation: {cross_corr_loss}\")\n",
    "            real_loss.backward()\n",
    "            optim.step()\n",
    "#             permMatrix.clamp_(min=0)\n",
    "#             model.permutation.permMatrix.weight.data = torch.nn.functional.normalize(permMatrix, p=1, dim=1)\n",
    "        visualizeIdxRange(range(2000, 2003), experiment_learner)\n",
    "            \n",
    "def orthogonality(matrix):\n",
    "    \"\"\"x^Tx - I\"\"\"\n",
    "    prod = torch.mm(matrix.transpose(1,0), matrix)\n",
    "    identity = torch.eye(matrix.shape[0])\n",
    "    off_diagonal = prod - identity.cuda()\n",
    "    return torch.norm(off_diagonal)"
   ]
  },
  {
   "cell_type": "code",
   "execution_count": 108,
   "metadata": {},
   "outputs": [
    {
     "data": {
      "text/plain": [
       "tensor(22.6338, device='cuda:1', grad_fn=<NormBackward0>)"
      ]
     },
     "execution_count": 108,
     "metadata": {},
     "output_type": "execute_result"
    }
   ],
   "source": [
    "orthogonality(experiment_learner.model.permutation.permMatrix.weight.cuda())"
   ]
  },
  {
   "cell_type": "code",
   "execution_count": 109,
   "metadata": {},
   "outputs": [
    {
     "data": {
      "text/html": [
       "\n",
       "    <div>\n",
       "        <style>\n",
       "            /* Turns off some styling */\n",
       "            progress {\n",
       "                /* gets rid of default border in Firefox and Opera. */\n",
       "                border: none;\n",
       "                /* Needs to be in here for Safari polyfill so background images work as expected. */\n",
       "                background-size: auto;\n",
       "            }\n",
       "            .progress-bar-interrupted, .progress-bar-interrupted::-webkit-progress-bar {\n",
       "                background: #F44336;\n",
       "            }\n",
       "        </style>\n",
       "      <progress value='0' class='' max='2', style='width:300px; height:20px; vertical-align: middle;'></progress>\n",
       "      0.00% [0/2 00:00<00:00]\n",
       "    </div>\n",
       "    \n",
       "\n",
       "\n",
       "    <div>\n",
       "        <style>\n",
       "            /* Turns off some styling */\n",
       "            progress {\n",
       "                /* gets rid of default border in Firefox and Opera. */\n",
       "                border: none;\n",
       "                /* Needs to be in here for Safari polyfill so background images work as expected. */\n",
       "                background-size: auto;\n",
       "            }\n",
       "            .progress-bar-interrupted, .progress-bar-interrupted::-webkit-progress-bar {\n",
       "                background: #F44336;\n",
       "            }\n",
       "        </style>\n",
       "      <progress value='0' class='progress-bar-interrupted' max='390', style='width:300px; height:20px; vertical-align: middle;'></progress>\n",
       "      Interrupted\n",
       "    </div>\n",
       "    "
      ],
      "text/plain": [
       "<IPython.core.display.HTML object>"
      ]
     },
     "metadata": {},
     "output_type": "display_data"
    },
    {
     "name": "stdout",
     "output_type": "stream",
     "text": [
      "Loss: 5.516633033752441, orthogonality: 22.633848190307617, cross correlation: 0.7352495193481445\n",
      "Loss: 2.4466893672943115, orthogonality: 23.830690383911133, cross correlation: 490.18072509765625\n",
      "Loss: 2.3125362396240234, orthogonality: 33.01033020019531, cross correlation: 1122.391357421875\n",
      "Loss: 2.2520039081573486, orthogonality: 57.322242736816406, cross correlation: 2515.429931640625\n",
      "Loss: 2.234102249145508, orthogonality: 106.23772430419922, cross correlation: 3030.39306640625\n",
      "Loss: 2.2595815658569336, orthogonality: 163.9416961669922, cross correlation: 4359.4091796875\n",
      "Loss: 2.2202765941619873, orthogonality: 238.27220153808594, cross correlation: 4285.3896484375\n",
      "Loss: 2.303267478942871, orthogonality: 305.1330871582031, cross correlation: 4211.27294921875\n",
      "Loss: 2.2268881797790527, orthogonality: 370.2815246582031, cross correlation: 5261.23291015625\n",
      "Loss: 2.246173620223999, orthogonality: 452.40618896484375, cross correlation: 5923.0546875\n",
      "Loss: 2.2306787967681885, orthogonality: 539.6437377929688, cross correlation: 8719.515625\n",
      "Loss: 2.1757190227508545, orthogonality: 666.4345092773438, cross correlation: 5887.8369140625\n",
      "Loss: 2.212942361831665, orthogonality: 740.599365234375, cross correlation: 9596.150390625\n",
      "Loss: 2.2307851314544678, orthogonality: 883.3760375976562, cross correlation: 14274.5849609375\n",
      "Loss: 2.2290124893188477, orthogonality: 1096.87109375, cross correlation: 6299.5810546875\n",
      "Loss: 2.2047743797302246, orthogonality: 1160.1094970703125, cross correlation: 9781.8232421875\n",
      "Loss: 2.1885054111480713, orthogonality: 1291.8699951171875, cross correlation: 7919.1689453125\n",
      "Loss: 2.2316536903381348, orthogonality: 1383.3358154296875, cross correlation: 12371.509765625\n",
      "Loss: 2.252573251724243, orthogonality: 1525.77783203125, cross correlation: 16996.794921875\n",
      "Loss: 2.268913745880127, orthogonality: 1758.103271484375, cross correlation: 8264.4990234375\n",
      "Loss: 2.2927472591400146, orthogonality: 1823.7957763671875, cross correlation: 14835.2783203125\n",
      "Loss: 2.2078959941864014, orthogonality: 2001.22705078125, cross correlation: 15957.6201171875\n",
      "Loss: 2.2735517024993896, orthogonality: 2195.84814453125, cross correlation: 14865.77734375\n",
      "Loss: 2.1897268295288086, orthogonality: 2360.520263671875, cross correlation: 7528.3505859375\n",
      "Loss: 2.1669135093688965, orthogonality: 2384.54931640625, cross correlation: 13509.4091796875\n",
      "Loss: 2.105844497680664, orthogonality: 2522.7109375, cross correlation: 14723.8828125\n",
      "Loss: 2.2341725826263428, orthogonality: 2672.42529296875, cross correlation: 6629.96484375\n",
      "Loss: 2.1973650455474854, orthogonality: 2679.791259765625, cross correlation: 23774.01953125\n",
      "Loss: 2.0518133640289307, orthogonality: 2961.39697265625, cross correlation: 18587.09375\n",
      "Loss: 2.1547186374664307, orthogonality: 3141.980224609375, cross correlation: 11424.994140625\n",
      "Loss: 2.1452813148498535, orthogonality: 3212.890869140625, cross correlation: 17316.34765625\n",
      "Loss: 2.133474111557007, orthogonality: 3368.168701171875, cross correlation: 9282.4619140625\n",
      "Loss: 2.0868287086486816, orthogonality: 3369.065185546875, cross correlation: 19207.5234375\n",
      "Loss: 2.1873416900634766, orthogonality: 3562.2783203125, cross correlation: 11111.68359375\n",
      "Loss: 2.223909854888916, orthogonality: 3597.997314453125, cross correlation: 14653.3837890625\n",
      "Loss: 2.1549224853515625, orthogonality: 3698.20556640625, cross correlation: 18753.2265625\n",
      "Loss: 2.164485216140747, orthogonality: 3857.4306640625, cross correlation: 13863.19921875\n",
      "Loss: 2.1104938983917236, orthogonality: 3927.0029296875, cross correlation: 18323.64453125\n",
      "Loss: 2.049842596054077, orthogonality: 4090.8095703125, cross correlation: 24800.8515625\n",
      "Loss: 1.9807697534561157, orthogonality: 4352.63134765625, cross correlation: 22751.1015625\n",
      "Loss: 2.1587541103363037, orthogonality: 4553.15234375, cross correlation: 26348.80078125\n",
      "Loss: 2.2345807552337646, orthogonality: 4799.20361328125, cross correlation: 18773.158203125\n",
      "Loss: 2.15254545211792, orthogonality: 4901.07080078125, cross correlation: 12535.5859375\n",
      "Loss: 2.1925389766693115, orthogonality: 4922.041015625, cross correlation: 25268.298828125\n",
      "Loss: 2.1077823638916016, orthogonality: 5160.82470703125, cross correlation: 22029.96875\n",
      "Loss: 2.150137186050415, orthogonality: 5320.63134765625, cross correlation: 23046.609375\n",
      "Loss: 2.0879430770874023, orthogonality: 5492.994140625, cross correlation: 26427.126953125\n",
      "Loss: 2.0507023334503174, orthogonality: 5730.2685546875, cross correlation: 37218.58984375\n",
      "Loss: 2.0419809818267822, orthogonality: 6136.03466796875, cross correlation: 21058.4375\n",
      "Loss: 2.127479314804077, orthogonality: 6238.3974609375, cross correlation: 17889.0546875\n",
      "Loss: 2.070547580718994, orthogonality: 6297.99658203125, cross correlation: 34052.875\n",
      "Loss: 2.1106131076812744, orthogonality: 6623.90673828125, cross correlation: 29286.3125\n",
      "Loss: 1.9925588369369507, orthogonality: 6862.5361328125, cross correlation: 21062.10546875\n",
      "Loss: 2.0798027515411377, orthogonality: 6952.84521484375, cross correlation: 23220.22265625\n",
      "Loss: 1.9691383838653564, orthogonality: 7066.1083984375, cross correlation: 24239.669921875\n",
      "Loss: 2.1174581050872803, orthogonality: 7188.58203125, cross correlation: 25625.767578125\n",
      "Loss: 2.104208469390869, orthogonality: 7347.572265625, cross correlation: 24395.16015625\n",
      "Loss: 2.025367021560669, orthogonality: 7471.82861328125, cross correlation: 26262.689453125\n",
      "Loss: 2.0509378910064697, orthogonality: 7635.00390625, cross correlation: 25585.14453125\n",
      "Loss: 2.0884389877319336, orthogonality: 7782.3544921875, cross correlation: 18211.52734375\n",
      "Loss: 2.0681209564208984, orthogonality: 7770.31494140625, cross correlation: 17615.57421875\n",
      "Loss: 2.178934097290039, orthogonality: 7743.7314453125, cross correlation: 27946.208984375\n",
      "Loss: 2.137960910797119, orthogonality: 7897.908203125, cross correlation: 24702.630859375\n",
      "Loss: 2.0799026489257812, orthogonality: 8018.89794921875, cross correlation: 19829.201171875\n",
      "Loss: 2.1543383598327637, orthogonality: 8048.09326171875, cross correlation: 31500.671875\n",
      "Loss: 2.0031588077545166, orthogonality: 8298.8359375, cross correlation: 29629.84375\n",
      "Loss: 1.862235426902771, orthogonality: 8485.609375, cross correlation: 24240.5546875\n",
      "Loss: 1.9727089405059814, orthogonality: 8567.306640625, cross correlation: 25658.453125\n",
      "Loss: 2.0077221393585205, orthogonality: 8696.291015625, cross correlation: 19983.296875\n",
      "Loss: 2.037763833999634, orthogonality: 8701.5888671875, cross correlation: 24797.451171875\n",
      "Loss: 2.1419732570648193, orthogonality: 8782.9912109375, cross correlation: 24686.375\n",
      "Loss: 2.1718342304229736, orthogonality: 8850.8017578125, cross correlation: 22067.13671875\n",
      "Loss: 2.0564932823181152, orthogonality: 8883.447265625, cross correlation: 26632.36328125\n",
      "Loss: 2.131497621536255, orthogonality: 9004.5859375, cross correlation: 27392.498046875\n",
      "Loss: 2.084418296813965, orthogonality: 9117.162109375, cross correlation: 34397.484375\n",
      "Loss: 2.012301445007324, orthogonality: 9367.26171875, cross correlation: 18748.3203125\n",
      "Loss: 2.070528984069824, orthogonality: 9320.3828125, cross correlation: 30167.484375\n",
      "Loss: 2.0061302185058594, orthogonality: 9467.4365234375, cross correlation: 24270.634765625\n",
      "Loss: 2.009533643722534, orthogonality: 9508.0986328125, cross correlation: 38111.6484375\n",
      "Loss: 2.094536304473877, orthogonality: 9814.38671875, cross correlation: 30387.931640625\n",
      "Loss: 1.9762300252914429, orthogonality: 9965.4267578125, cross correlation: 30306.521484375\n",
      "Loss: 2.0962884426116943, orthogonality: 10113.5849609375, cross correlation: 34373.66796875\n",
      "Loss: 2.0277998447418213, orthogonality: 10333.095703125, cross correlation: 12320.1826171875\n",
      "Loss: 1.9022605419158936, orthogonality: 10124.4853515625, cross correlation: 35013.6171875\n",
      "Loss: 2.1295197010040283, orthogonality: 10330.52734375, cross correlation: 32268.77734375\n",
      "Loss: 2.0487194061279297, orthogonality: 10480.1103515625, cross correlation: 25650.3984375\n",
      "Loss: 2.012207508087158, orthogonality: 10499.0732421875, cross correlation: 29197.13671875\n",
      "Loss: 1.987821102142334, orthogonality: 10610.3935546875, cross correlation: 24169.99609375\n",
      "Loss: 2.1248879432678223, orthogonality: 10610.302734375, cross correlation: 25826.232421875\n"
     ]
    },
    {
     "name": "stdout",
     "output_type": "stream",
     "text": [
      "Loss: 2.1136093139648438, orthogonality: 10652.6630859375, cross correlation: 25966.494140625\n",
      "Loss: 1.987121343612671, orthogonality: 10667.6591796875, cross correlation: 30199.583984375\n",
      "Loss: 2.0606276988983154, orthogonality: 10789.90625, cross correlation: 24607.0390625\n",
      "Loss: 2.0483453273773193, orthogonality: 10780.5693359375, cross correlation: 30250.962890625\n",
      "Loss: 1.9853074550628662, orthogonality: 10905.076171875, cross correlation: 44128.6953125\n",
      "Loss: 2.026031970977783, orthogonality: 11240.72265625, cross correlation: 19538.4140625\n",
      "Loss: 2.0831971168518066, orthogonality: 11116.9931640625, cross correlation: 35854.609375\n",
      "Loss: 2.053701639175415, orthogonality: 11316.076171875, cross correlation: 41348.171875\n",
      "Loss: 2.0767312049865723, orthogonality: 11577.439453125, cross correlation: 38795.359375\n",
      "Loss: 1.960900902748108, orthogonality: 11828.05859375, cross correlation: 39577.953125\n",
      "Loss: 2.033987522125244, orthogonality: 12061.8564453125, cross correlation: 31827.1015625\n",
      "Loss: 2.080288887023926, orthogonality: 12153.9140625, cross correlation: 30631.09375\n",
      "Loss: 2.0833091735839844, orthogonality: 12213.1943359375, cross correlation: 45979.34375\n",
      "Loss: 2.063845157623291, orthogonality: 12553.0947265625, cross correlation: 36463.4375\n",
      "Loss: 2.022542715072632, orthogonality: 12698.8017578125, cross correlation: 46089.0859375\n",
      "Loss: 1.9767835140228271, orthogonality: 12990.435546875, cross correlation: 31551.4375\n",
      "Loss: 1.9704532623291016, orthogonality: 13039.1318359375, cross correlation: 37466.47265625\n",
      "Loss: 1.9695762395858765, orthogonality: 13179.0537109375, cross correlation: 17316.8984375\n",
      "Loss: 2.0362637042999268, orthogonality: 12936.8603515625, cross correlation: 40203.10546875\n"
     ]
    },
    {
     "ename": "KeyboardInterrupt",
     "evalue": "",
     "output_type": "error",
     "traceback": [
      "\u001b[0;31m---------------------------------------------------------------------------\u001b[0m",
      "\u001b[0;31mKeyboardInterrupt\u001b[0m                         Traceback (most recent call last)",
      "\u001b[0;32m<ipython-input-109-c20bb37f47da>\u001b[0m in \u001b[0;36m<module>\u001b[0;34m()\u001b[0m\n\u001b[0;32m----> 1\u001b[0;31m \u001b[0mfitWithClamped\u001b[0m\u001b[0;34m(\u001b[0m\u001b[0mexperiment_learner\u001b[0m\u001b[0;34m,\u001b[0m \u001b[0;36m2\u001b[0m\u001b[0;34m)\u001b[0m\u001b[0;34m\u001b[0m\u001b[0m\n\u001b[0m",
      "\u001b[0;32m<ipython-input-107-8c3090c47b74>\u001b[0m in \u001b[0;36mfitWithClamped\u001b[0;34m(learner, epochs, alpha, beta, visualize)\u001b[0m\n\u001b[1;32m     11\u001b[0m \u001b[0;34m\u001b[0m\u001b[0m\n\u001b[1;32m     12\u001b[0m     \u001b[0;32mfor\u001b[0m \u001b[0mepoch\u001b[0m \u001b[0;32min\u001b[0m \u001b[0mpbar\u001b[0m\u001b[0;34m:\u001b[0m\u001b[0;34m\u001b[0m\u001b[0m\n\u001b[0;32m---> 13\u001b[0;31m         \u001b[0;32mfor\u001b[0m \u001b[0mxb\u001b[0m\u001b[0;34m,\u001b[0m \u001b[0myb\u001b[0m \u001b[0;32min\u001b[0m \u001b[0mprogress_bar\u001b[0m\u001b[0;34m(\u001b[0m\u001b[0mlearner\u001b[0m\u001b[0;34m.\u001b[0m\u001b[0mdata\u001b[0m\u001b[0;34m.\u001b[0m\u001b[0mtrain_dl\u001b[0m\u001b[0;34m,\u001b[0m \u001b[0mparent\u001b[0m\u001b[0;34m=\u001b[0m\u001b[0mpbar\u001b[0m\u001b[0;34m)\u001b[0m\u001b[0;34m:\u001b[0m\u001b[0;34m\u001b[0m\u001b[0m\n\u001b[0m\u001b[1;32m     14\u001b[0m             \u001b[0mpermMatrix\u001b[0m \u001b[0;34m=\u001b[0m \u001b[0mmodel\u001b[0m\u001b[0;34m.\u001b[0m\u001b[0mpermutation\u001b[0m\u001b[0;34m.\u001b[0m\u001b[0mpermMatrix\u001b[0m\u001b[0;34m.\u001b[0m\u001b[0mweight\u001b[0m\u001b[0;34m\u001b[0m\u001b[0m\n\u001b[1;32m     15\u001b[0m \u001b[0;34m\u001b[0m\u001b[0m\n",
      "\u001b[0;32m~/.conda/envs/fastai/lib/python3.6/site-packages/fastprogress/fastprogress.py\u001b[0m in \u001b[0;36m__iter__\u001b[0;34m(self)\u001b[0m\n\u001b[1;32m     70\u001b[0m         \u001b[0mself\u001b[0m\u001b[0;34m.\u001b[0m\u001b[0mupdate\u001b[0m\u001b[0;34m(\u001b[0m\u001b[0;36m0\u001b[0m\u001b[0;34m)\u001b[0m\u001b[0;34m\u001b[0m\u001b[0m\n\u001b[1;32m     71\u001b[0m         \u001b[0;32mtry\u001b[0m\u001b[0;34m:\u001b[0m\u001b[0;34m\u001b[0m\u001b[0m\n\u001b[0;32m---> 72\u001b[0;31m             \u001b[0;32mfor\u001b[0m \u001b[0mi\u001b[0m\u001b[0;34m,\u001b[0m\u001b[0mo\u001b[0m \u001b[0;32min\u001b[0m \u001b[0menumerate\u001b[0m\u001b[0;34m(\u001b[0m\u001b[0mself\u001b[0m\u001b[0;34m.\u001b[0m\u001b[0m_gen\u001b[0m\u001b[0;34m)\u001b[0m\u001b[0;34m:\u001b[0m\u001b[0;34m\u001b[0m\u001b[0m\n\u001b[0m\u001b[1;32m     73\u001b[0m                 \u001b[0;32mif\u001b[0m \u001b[0mi\u001b[0m \u001b[0;34m>=\u001b[0m \u001b[0mself\u001b[0m\u001b[0;34m.\u001b[0m\u001b[0mtotal\u001b[0m\u001b[0;34m:\u001b[0m \u001b[0;32mbreak\u001b[0m\u001b[0;34m\u001b[0m\u001b[0m\n\u001b[1;32m     74\u001b[0m                 \u001b[0;32myield\u001b[0m \u001b[0mo\u001b[0m\u001b[0;34m\u001b[0m\u001b[0m\n",
      "\u001b[0;32m~/.conda/envs/fastai/lib/python3.6/site-packages/fastai/basic_data.py\u001b[0m in \u001b[0;36m__iter__\u001b[0;34m(self)\u001b[0m\n\u001b[1;32m     73\u001b[0m     \u001b[0;32mdef\u001b[0m \u001b[0m__iter__\u001b[0m\u001b[0;34m(\u001b[0m\u001b[0mself\u001b[0m\u001b[0;34m)\u001b[0m\u001b[0;34m:\u001b[0m\u001b[0;34m\u001b[0m\u001b[0m\n\u001b[1;32m     74\u001b[0m         \u001b[0;34m\"Process and returns items from `DataLoader`.\"\u001b[0m\u001b[0;34m\u001b[0m\u001b[0m\n\u001b[0;32m---> 75\u001b[0;31m         \u001b[0;32mfor\u001b[0m \u001b[0mb\u001b[0m \u001b[0;32min\u001b[0m \u001b[0mself\u001b[0m\u001b[0;34m.\u001b[0m\u001b[0mdl\u001b[0m\u001b[0;34m:\u001b[0m \u001b[0;32myield\u001b[0m \u001b[0mself\u001b[0m\u001b[0;34m.\u001b[0m\u001b[0mproc_batch\u001b[0m\u001b[0;34m(\u001b[0m\u001b[0mb\u001b[0m\u001b[0;34m)\u001b[0m\u001b[0;34m\u001b[0m\u001b[0m\n\u001b[0m\u001b[1;32m     76\u001b[0m \u001b[0;34m\u001b[0m\u001b[0m\n\u001b[1;32m     77\u001b[0m     \u001b[0;34m@\u001b[0m\u001b[0mclassmethod\u001b[0m\u001b[0;34m\u001b[0m\u001b[0m\n",
      "\u001b[0;32m~/.conda/envs/fastai/lib/python3.6/site-packages/fastai/basic_data.py\u001b[0m in \u001b[0;36mproc_batch\u001b[0;34m(self, b)\u001b[0m\n\u001b[1;32m     68\u001b[0m         \u001b[0;34m\"Process batch `b` of `TensorImage`.\"\u001b[0m\u001b[0;34m\u001b[0m\u001b[0m\n\u001b[1;32m     69\u001b[0m         \u001b[0mb\u001b[0m \u001b[0;34m=\u001b[0m \u001b[0mto_device\u001b[0m\u001b[0;34m(\u001b[0m\u001b[0mb\u001b[0m\u001b[0;34m,\u001b[0m \u001b[0mself\u001b[0m\u001b[0;34m.\u001b[0m\u001b[0mdevice\u001b[0m\u001b[0;34m)\u001b[0m\u001b[0;34m\u001b[0m\u001b[0m\n\u001b[0;32m---> 70\u001b[0;31m         \u001b[0;32mfor\u001b[0m \u001b[0mf\u001b[0m \u001b[0;32min\u001b[0m \u001b[0mlistify\u001b[0m\u001b[0;34m(\u001b[0m\u001b[0mself\u001b[0m\u001b[0;34m.\u001b[0m\u001b[0mtfms\u001b[0m\u001b[0;34m)\u001b[0m\u001b[0;34m:\u001b[0m \u001b[0mb\u001b[0m \u001b[0;34m=\u001b[0m \u001b[0mf\u001b[0m\u001b[0;34m(\u001b[0m\u001b[0mb\u001b[0m\u001b[0;34m)\u001b[0m\u001b[0;34m\u001b[0m\u001b[0m\n\u001b[0m\u001b[1;32m     71\u001b[0m         \u001b[0;32mreturn\u001b[0m \u001b[0mb\u001b[0m\u001b[0;34m\u001b[0m\u001b[0m\n\u001b[1;32m     72\u001b[0m \u001b[0;34m\u001b[0m\u001b[0m\n",
      "\u001b[0;32m~/.conda/envs/fastai/lib/python3.6/site-packages/fastai/vision/data.py\u001b[0m in \u001b[0;36m_normalize_batch\u001b[0;34m(b, mean, std, do_x, do_y)\u001b[0m\n\u001b[1;32m     64\u001b[0m     \u001b[0;34m\"`b` = `x`,`y` - normalize `x` array of imgs and `do_y` optionally `y`.\"\u001b[0m\u001b[0;34m\u001b[0m\u001b[0m\n\u001b[1;32m     65\u001b[0m     \u001b[0mx\u001b[0m\u001b[0;34m,\u001b[0m\u001b[0my\u001b[0m \u001b[0;34m=\u001b[0m \u001b[0mb\u001b[0m\u001b[0;34m\u001b[0m\u001b[0m\n\u001b[0;32m---> 66\u001b[0;31m     \u001b[0mmean\u001b[0m\u001b[0;34m,\u001b[0m\u001b[0mstd\u001b[0m \u001b[0;34m=\u001b[0m \u001b[0mmean\u001b[0m\u001b[0;34m.\u001b[0m\u001b[0mto\u001b[0m\u001b[0;34m(\u001b[0m\u001b[0mx\u001b[0m\u001b[0;34m.\u001b[0m\u001b[0mdevice\u001b[0m\u001b[0;34m)\u001b[0m\u001b[0;34m,\u001b[0m\u001b[0mstd\u001b[0m\u001b[0;34m.\u001b[0m\u001b[0mto\u001b[0m\u001b[0;34m(\u001b[0m\u001b[0mx\u001b[0m\u001b[0;34m.\u001b[0m\u001b[0mdevice\u001b[0m\u001b[0;34m)\u001b[0m\u001b[0;34m\u001b[0m\u001b[0m\n\u001b[0m\u001b[1;32m     67\u001b[0m     \u001b[0;32mif\u001b[0m \u001b[0mdo_x\u001b[0m\u001b[0;34m:\u001b[0m \u001b[0mx\u001b[0m \u001b[0;34m=\u001b[0m \u001b[0mnormalize\u001b[0m\u001b[0;34m(\u001b[0m\u001b[0mx\u001b[0m\u001b[0;34m,\u001b[0m\u001b[0mmean\u001b[0m\u001b[0;34m,\u001b[0m\u001b[0mstd\u001b[0m\u001b[0;34m)\u001b[0m\u001b[0;34m\u001b[0m\u001b[0m\n\u001b[1;32m     68\u001b[0m     \u001b[0;32mif\u001b[0m \u001b[0mdo_y\u001b[0m \u001b[0;32mand\u001b[0m \u001b[0mlen\u001b[0m\u001b[0;34m(\u001b[0m\u001b[0my\u001b[0m\u001b[0;34m.\u001b[0m\u001b[0mshape\u001b[0m\u001b[0;34m)\u001b[0m \u001b[0;34m==\u001b[0m \u001b[0;36m4\u001b[0m\u001b[0;34m:\u001b[0m \u001b[0my\u001b[0m \u001b[0;34m=\u001b[0m \u001b[0mnormalize\u001b[0m\u001b[0;34m(\u001b[0m\u001b[0my\u001b[0m\u001b[0;34m,\u001b[0m\u001b[0mmean\u001b[0m\u001b[0;34m,\u001b[0m\u001b[0mstd\u001b[0m\u001b[0;34m)\u001b[0m\u001b[0;34m\u001b[0m\u001b[0m\n",
      "\u001b[0;31mKeyboardInterrupt\u001b[0m: "
     ]
    }
   ],
   "source": [
    "fitWithClamped(experiment_learner, 2)"
   ]
  },
  {
   "cell_type": "markdown",
   "metadata": {},
   "source": [
    "Best so far: \n",
    "\n",
    "- 2.3 -> 2.17 (no constraints)\n",
    "- 2.3 -> 2.00 (ortho loss)"
   ]
  },
  {
   "cell_type": "code",
   "execution_count": 64,
   "metadata": {},
   "outputs": [],
   "source": [
    "current_weight_matrix = experiment_learner.model.permutation.permMatrix.weight.data.cpu().numpy()"
   ]
  },
  {
   "cell_type": "code",
   "execution_count": 66,
   "metadata": {},
   "outputs": [
    {
     "data": {
      "text/plain": [
       "<matplotlib.image.AxesImage at 0x7ff29090be80>"
      ]
     },
     "execution_count": 66,
     "metadata": {},
     "output_type": "execute_result"
    },
    {
     "data": {
      "image/png": "[encoded data removed]",
      "text/plain": [
       "<Figure size 288x288 with 1 Axes>"
      ]
     },
     "metadata": {},
     "output_type": "display_data"
    }
   ],
   "source": [
    "plt.matshow(current_weight_matrix.T @ current_weight_matrix)"
   ]
  },
  {
   "cell_type": "code",
   "execution_count": 36,
   "metadata": {},
   "outputs": [],
   "source": [
    "preds, y, loss = experiment_learner.get_preds(with_loss=True)"
   ]
  },
  {
   "cell_type": "code",
   "execution_count": 37,
   "metadata": {},
   "outputs": [
    {
     "data": {
      "text/plain": [
       "tensor(0.4238)"
      ]
     },
     "execution_count": 37,
     "metadata": {},
     "output_type": "execute_result"
    }
   ],
   "source": [
    "accuracy(preds, y)"
   ]
  },
  {
   "cell_type": "markdown",
   "metadata": {},
   "source": [
    "# Next Steps?\n",
    "\n",
    "- Correlate nearby pixels, each row of the permMatrix is sampling all the pixels\n",
    "- - Each row should focus on \"nearby\" pixels, that have similar correlations in \"unshuffled\" regions (in batch or dataset)\n",
    "- - Want higher correlation (pairwise) of k x k regions in unshuffled (k << )\n",
    "\n",
    "\n",
    "\n",
    "- Minimize off-diagonal elements of $X^TX$ (if we remove non-negativity restraint & change $\\infty$-regularization to L2)"
   ]
  },
  {
   "cell_type": "code",
   "execution_count": null,
   "metadata": {},
   "outputs": [],
   "source": []
  },
  {
   "cell_type": "markdown",
   "metadata": {},
   "source": [
    "# Experiment Results:\n",
    "\n",
    "Unshufflers were trying to unshuffled the dataset, given a frozen trained model (WRN-22)\n",
    "\n",
    "| Method | Training Process | Accuracy |\n",
    "| ------ | -------- |\n",
    "| Unshuffler | 30 epochs | 46.48|\n",
    "| Unshuffler, L2 reg | 30 epochs | ? |\n",
    "| Unshuffler, $X^TX - I$ loss | 2 epochs | 43.28 |\n"
   ]
  },
  {
   "cell_type": "code",
   "execution_count": 112,
   "metadata": {},
   "outputs": [],
   "source": [
    "preds, y, loss = experiment_learner.get_preds(with_loss=True)"
   ]
  },
  {
   "cell_type": "code",
   "execution_count": 113,
   "metadata": {},
   "outputs": [
    {
     "data": {
      "text/plain": [
       "tensor(0.8474)"
      ]
     },
     "execution_count": 113,
     "metadata": {},
     "output_type": "execute_result"
    }
   ],
   "source": [
    "accuracy(preds, y)"
   ]
  },
  {
   "cell_type": "code",
   "execution_count": 114,
   "metadata": {
    "collapsed": true
   },
   "outputs": [
    {
     "data": {
      "text/plain": [
       "WideResNet(\n",
       "  (features): Sequential(\n",
       "    (0): Conv2d(3, 16, kernel_size=(3, 3), stride=(1, 1), padding=(1, 1), bias=False)\n",
       "    (1): BasicBlock(\n",
       "      (bn): BatchNorm2d(16, eps=1e-05, momentum=0.1, affine=True, track_running_stats=True)\n",
       "      (conv1): Conv2d(16, 96, kernel_size=(3, 3), stride=(1, 1), padding=(1, 1), bias=False)\n",
       "      (conv2): Sequential(\n",
       "        (0): BatchNorm2d(96, eps=1e-05, momentum=0.1, affine=True, track_running_stats=True)\n",
       "        (1): ReLU(inplace)\n",
       "        (2): Conv2d(96, 96, kernel_size=(3, 3), stride=(1, 1), padding=(1, 1), bias=False)\n",
       "      )\n",
       "      (shortcut): Conv2d(16, 96, kernel_size=(1, 1), stride=(1, 1), bias=False)\n",
       "    )\n",
       "    (2): BasicBlock(\n",
       "      (bn): BatchNorm2d(96, eps=1e-05, momentum=0.1, affine=True, track_running_stats=True)\n",
       "      (conv1): Conv2d(96, 96, kernel_size=(3, 3), stride=(1, 1), padding=(1, 1), bias=False)\n",
       "      (conv2): Sequential(\n",
       "        (0): BatchNorm2d(96, eps=1e-05, momentum=0.1, affine=True, track_running_stats=True)\n",
       "        (1): ReLU(inplace)\n",
       "        (2): Conv2d(96, 96, kernel_size=(3, 3), stride=(1, 1), padding=(1, 1), bias=False)\n",
       "      )\n",
       "    )\n",
       "    (3): BasicBlock(\n",
       "      (bn): BatchNorm2d(96, eps=1e-05, momentum=0.1, affine=True, track_running_stats=True)\n",
       "      (conv1): Conv2d(96, 96, kernel_size=(3, 3), stride=(1, 1), padding=(1, 1), bias=False)\n",
       "      (conv2): Sequential(\n",
       "        (0): BatchNorm2d(96, eps=1e-05, momentum=0.1, affine=True, track_running_stats=True)\n",
       "        (1): ReLU(inplace)\n",
       "        (2): Conv2d(96, 96, kernel_size=(3, 3), stride=(1, 1), padding=(1, 1), bias=False)\n",
       "      )\n",
       "    )\n",
       "    (4): BasicBlock(\n",
       "      (bn): BatchNorm2d(96, eps=1e-05, momentum=0.1, affine=True, track_running_stats=True)\n",
       "      (conv1): Conv2d(96, 192, kernel_size=(3, 3), stride=(2, 2), padding=(1, 1), bias=False)\n",
       "      (conv2): Sequential(\n",
       "        (0): BatchNorm2d(192, eps=1e-05, momentum=0.1, affine=True, track_running_stats=True)\n",
       "        (1): ReLU(inplace)\n",
       "        (2): Conv2d(192, 192, kernel_size=(3, 3), stride=(1, 1), padding=(1, 1), bias=False)\n",
       "      )\n",
       "      (shortcut): Conv2d(96, 192, kernel_size=(1, 1), stride=(2, 2), bias=False)\n",
       "    )\n",
       "    (5): BasicBlock(\n",
       "      (bn): BatchNorm2d(192, eps=1e-05, momentum=0.1, affine=True, track_running_stats=True)\n",
       "      (conv1): Conv2d(192, 192, kernel_size=(3, 3), stride=(1, 1), padding=(1, 1), bias=False)\n",
       "      (conv2): Sequential(\n",
       "        (0): BatchNorm2d(192, eps=1e-05, momentum=0.1, affine=True, track_running_stats=True)\n",
       "        (1): ReLU(inplace)\n",
       "        (2): Conv2d(192, 192, kernel_size=(3, 3), stride=(1, 1), padding=(1, 1), bias=False)\n",
       "      )\n",
       "    )\n",
       "    (6): BasicBlock(\n",
       "      (bn): BatchNorm2d(192, eps=1e-05, momentum=0.1, affine=True, track_running_stats=True)\n",
       "      (conv1): Conv2d(192, 192, kernel_size=(3, 3), stride=(1, 1), padding=(1, 1), bias=False)\n",
       "      (conv2): Sequential(\n",
       "        (0): BatchNorm2d(192, eps=1e-05, momentum=0.1, affine=True, track_running_stats=True)\n",
       "        (1): ReLU(inplace)\n",
       "        (2): Conv2d(192, 192, kernel_size=(3, 3), stride=(1, 1), padding=(1, 1), bias=False)\n",
       "      )\n",
       "    )\n",
       "    (7): BasicBlock(\n",
       "      (bn): BatchNorm2d(192, eps=1e-05, momentum=0.1, affine=True, track_running_stats=True)\n",
       "      (conv1): Conv2d(192, 384, kernel_size=(3, 3), stride=(2, 2), padding=(1, 1), bias=False)\n",
       "      (conv2): Sequential(\n",
       "        (0): BatchNorm2d(384, eps=1e-05, momentum=0.1, affine=True, track_running_stats=True)\n",
       "        (1): ReLU(inplace)\n",
       "        (2): Conv2d(384, 384, kernel_size=(3, 3), stride=(1, 1), padding=(1, 1), bias=False)\n",
       "      )\n",
       "      (shortcut): Conv2d(192, 384, kernel_size=(1, 1), stride=(2, 2), bias=False)\n",
       "    )\n",
       "    (8): BasicBlock(\n",
       "      (bn): BatchNorm2d(384, eps=1e-05, momentum=0.1, affine=True, track_running_stats=True)\n",
       "      (conv1): Conv2d(384, 384, kernel_size=(3, 3), stride=(1, 1), padding=(1, 1), bias=False)\n",
       "      (conv2): Sequential(\n",
       "        (0): BatchNorm2d(384, eps=1e-05, momentum=0.1, affine=True, track_running_stats=True)\n",
       "        (1): ReLU(inplace)\n",
       "        (2): Conv2d(384, 384, kernel_size=(3, 3), stride=(1, 1), padding=(1, 1), bias=False)\n",
       "      )\n",
       "    )\n",
       "    (9): BasicBlock(\n",
       "      (bn): BatchNorm2d(384, eps=1e-05, momentum=0.1, affine=True, track_running_stats=True)\n",
       "      (conv1): Conv2d(384, 384, kernel_size=(3, 3), stride=(1, 1), padding=(1, 1), bias=False)\n",
       "      (conv2): Sequential(\n",
       "        (0): BatchNorm2d(384, eps=1e-05, momentum=0.1, affine=True, track_running_stats=True)\n",
       "        (1): ReLU(inplace)\n",
       "        (2): Conv2d(384, 384, kernel_size=(3, 3), stride=(1, 1), padding=(1, 1), bias=False)\n",
       "      )\n",
       "    )\n",
       "    (10): BatchNorm2d(384, eps=1e-05, momentum=0.1, affine=True, track_running_stats=True)\n",
       "    (11): ReLU(inplace)\n",
       "    (12): AdaptiveAvgPool2d(output_size=1)\n",
       "    (13): Flatten()\n",
       "    (14): Linear(in_features=384, out_features=10, bias=True)\n",
       "  )\n",
       ")"
      ]
     },
     "execution_count": 114,
     "metadata": {},
     "output_type": "execute_result"
    }
   ],
   "source": [
    "experiment_learner.model.learnedModel"
   ]
  },
  {
   "cell_type": "code",
   "execution_count": 115,
   "metadata": {},
   "outputs": [],
   "source": [
    "unshuffledData = get_data(32, 128, with_shuffle=False)\n",
    "unshuffledModel = Learner(unshuffledData, experiment_learner.model.learnedModel)"
   ]
  },
  {
   "cell_type": "code",
   "execution_count": 116,
   "metadata": {},
   "outputs": [],
   "source": [
    "ps, ys = unshuffledModel.get_preds()"
   ]
  },
  {
   "cell_type": "code",
   "execution_count": 117,
   "metadata": {},
   "outputs": [
    {
     "data": {
      "text/plain": [
       "tensor(0.8440)"
      ]
     },
     "execution_count": 117,
     "metadata": {},
     "output_type": "execute_result"
    }
   ],
   "source": [
    "accuracy(ps, ys)"
   ]
  }
 ],
 "metadata": {
  "kernelspec": {
   "display_name": "fastai",
   "language": "python",
   "name": "fastai"
  },
  "language_info": {
   "codemirror_mode": {
    "name": "ipython",
    "version": 3
   },
   "file_extension": ".py",
   "mimetype": "text/x-python",
   "name": "python",
   "nbconvert_exporter": "python",
   "pygments_lexer": "ipython3",
   "version": "3.6.5"
  }
 },
 "nbformat": 4,
 "nbformat_minor": 2
}
